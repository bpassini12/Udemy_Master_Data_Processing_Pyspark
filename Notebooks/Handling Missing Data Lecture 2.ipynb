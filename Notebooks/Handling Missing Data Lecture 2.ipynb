{
 "cells": [
  {
   "cell_type": "code",
   "execution_count": 0,
   "metadata": {
    "application/vnd.databricks.v1+cell": {
     "cellMetadata": {
      "byteLimit": 2048000,
      "rowLimit": 10000
     },
     "inputWidgets": {},
     "nuid": "db0d96eb-29d5-4b72-9e99-781083ee3cbe",
     "showTitle": true,
     "title": "Imports"
    }
   },
   "outputs": [],
   "source": [
    "from pyspark.sql.types import StructType, StructField, StringType, DoubleType\n",
    "from pyspark.sql.functions import col, mean\n",
    "from pyspark.sql import functions as F"
   ]
  },
  {
   "cell_type": "code",
   "execution_count": 0,
   "metadata": {
    "application/vnd.databricks.v1+cell": {
     "cellMetadata": {
      "byteLimit": 2048000,
      "rowLimit": 10000
     },
     "inputWidgets": {},
     "nuid": "65e8c7b2-8017-4ad3-ba07-20bec8aecc8b",
     "showTitle": true,
     "title": "Create Dataframe with NAs"
    }
   },
   "outputs": [],
   "source": [
    "\n",
    "\n",
    "my_data = [(\"2023-01-01\",\"PPDQ1\",\"A\",366.3),\n",
    "        (\"2023-01-02\",None,None,389.5),\n",
    "        (\"2023-01-02\",\"PPDQ1\",None,289.78),\n",
    "        (\"2023-01-03\",None,None,None),\n",
    "        (\"2023-01-04\",\"PPDQ3\",\"A\",766.45),\n",
    "  ]\n",
    "\n",
    "schema = StructType([ \\\n",
    "    StructField(\"date\",StringType(),True), \\\n",
    "    StructField(\"product\",StringType(),True), \\\n",
    "    StructField(\"store\",StringType(),True), \\\n",
    "    StructField(\"total\", DoubleType(), True)  ])\n",
    " \n",
    "sales = spark.createDataFrame(data=my_data,schema=schema)"
   ]
  },
  {
   "cell_type": "code",
   "execution_count": 0,
   "metadata": {
    "application/vnd.databricks.v1+cell": {
     "cellMetadata": {
      "byteLimit": 2048000,
      "rowLimit": 10000
     },
     "inputWidgets": {},
     "nuid": "983e36a0-5ddd-40c7-bff4-bad30ff4b4d2",
     "showTitle": true,
     "title": "Display"
    }
   },
   "outputs": [
    {
     "output_type": "display_data",
     "data": {
      "text/html": [
       "<style scoped>\n",
       "  .table-result-container {\n",
       "    max-height: 300px;\n",
       "    overflow: auto;\n",
       "  }\n",
       "  table, th, td {\n",
       "    border: 1px solid black;\n",
       "    border-collapse: collapse;\n",
       "  }\n",
       "  th, td {\n",
       "    padding: 5px;\n",
       "  }\n",
       "  th {\n",
       "    text-align: left;\n",
       "  }\n",
       "</style><div class='table-result-container'><table class='table-result'><thead style='background-color: white'><tr><th>date</th><th>product</th><th>store</th><th>total</th></tr></thead><tbody><tr><td>2023-01-01</td><td>PPDQ1</td><td>A</td><td>366.3</td></tr><tr><td>2023-01-02</td><td>null</td><td>null</td><td>389.5</td></tr><tr><td>2023-01-02</td><td>PPDQ1</td><td>null</td><td>289.78</td></tr><tr><td>2023-01-03</td><td>null</td><td>null</td><td>null</td></tr><tr><td>2023-01-04</td><td>PPDQ3</td><td>A</td><td>766.45</td></tr></tbody></table></div>"
      ]
     },
     "metadata": {
      "application/vnd.databricks.v1+output": {
       "addedWidgets": {},
       "aggData": [],
       "aggError": "",
       "aggOverflow": false,
       "aggSchema": [],
       "aggSeriesLimitReached": false,
       "aggType": "",
       "arguments": {},
       "columnCustomDisplayInfos": {},
       "data": [
        [
         "2023-01-01",
         "PPDQ1",
         "A",
         366.3
        ],
        [
         "2023-01-02",
         null,
         null,
         389.5
        ],
        [
         "2023-01-02",
         "PPDQ1",
         null,
         289.78
        ],
        [
         "2023-01-03",
         null,
         null,
         null
        ],
        [
         "2023-01-04",
         "PPDQ3",
         "A",
         766.45
        ]
       ],
       "datasetInfos": [],
       "dbfsResultPath": null,
       "isJsonSchema": true,
       "metadata": {},
       "overflow": false,
       "plotOptions": {
        "customPlotOptions": {},
        "displayType": "table",
        "pivotAggregation": null,
        "pivotColumns": null,
        "xColumns": null,
        "yColumns": null
       },
       "removedWidgets": [],
       "schema": [
        {
         "metadata": "{}",
         "name": "date",
         "type": "\"string\""
        },
        {
         "metadata": "{}",
         "name": "product",
         "type": "\"string\""
        },
        {
         "metadata": "{}",
         "name": "store",
         "type": "\"string\""
        },
        {
         "metadata": "{}",
         "name": "total",
         "type": "\"double\""
        }
       ],
       "type": "table"
      }
     },
     "output_type": "display_data"
    }
   ],
   "source": [
    "display(sales)"
   ]
  },
  {
   "cell_type": "code",
   "execution_count": 0,
   "metadata": {
    "application/vnd.databricks.v1+cell": {
     "cellMetadata": {
      "byteLimit": 2048000,
      "rowLimit": 10000
     },
     "inputWidgets": {},
     "nuid": "eda2b9ba-69a6-4fe6-9d28-bbaba39fd166",
     "showTitle": true,
     "title": "Drop NAs"
    }
   },
   "outputs": [
    {
     "output_type": "display_data",
     "data": {
      "text/html": [
       "<style scoped>\n",
       "  .table-result-container {\n",
       "    max-height: 300px;\n",
       "    overflow: auto;\n",
       "  }\n",
       "  table, th, td {\n",
       "    border: 1px solid black;\n",
       "    border-collapse: collapse;\n",
       "  }\n",
       "  th, td {\n",
       "    padding: 5px;\n",
       "  }\n",
       "  th {\n",
       "    text-align: left;\n",
       "  }\n",
       "</style><div class='table-result-container'><table class='table-result'><thead style='background-color: white'><tr><th>date</th><th>product</th><th>store</th><th>total</th></tr></thead><tbody><tr><td>2023-01-01</td><td>PPDQ1</td><td>A</td><td>366.3</td></tr><tr><td>2023-01-02</td><td>PPDQ1</td><td>null</td><td>289.78</td></tr><tr><td>2023-01-04</td><td>PPDQ3</td><td>A</td><td>766.45</td></tr></tbody></table></div>"
      ]
     },
     "metadata": {
      "application/vnd.databricks.v1+output": {
       "addedWidgets": {},
       "aggData": [],
       "aggError": "",
       "aggOverflow": false,
       "aggSchema": [],
       "aggSeriesLimitReached": false,
       "aggType": "",
       "arguments": {},
       "columnCustomDisplayInfos": {},
       "data": [
        [
         "2023-01-01",
         "PPDQ1",
         "A",
         366.3
        ],
        [
         "2023-01-02",
         "PPDQ1",
         null,
         289.78
        ],
        [
         "2023-01-04",
         "PPDQ3",
         "A",
         766.45
        ]
       ],
       "datasetInfos": [],
       "dbfsResultPath": null,
       "isJsonSchema": true,
       "metadata": {},
       "overflow": false,
       "plotOptions": {
        "customPlotOptions": {},
        "displayType": "table",
        "pivotAggregation": null,
        "pivotColumns": null,
        "xColumns": null,
        "yColumns": null
       },
       "removedWidgets": [],
       "schema": [
        {
         "metadata": "{}",
         "name": "date",
         "type": "\"string\""
        },
        {
         "metadata": "{}",
         "name": "product",
         "type": "\"string\""
        },
        {
         "metadata": "{}",
         "name": "store",
         "type": "\"string\""
        },
        {
         "metadata": "{}",
         "name": "total",
         "type": "\"double\""
        }
       ],
       "type": "table"
      }
     },
     "output_type": "display_data"
    }
   ],
   "source": [
    "sales.na.drop(thresh=3).display()"
   ]
  },
  {
   "cell_type": "code",
   "execution_count": 0,
   "metadata": {
    "application/vnd.databricks.v1+cell": {
     "cellMetadata": {
      "byteLimit": 2048000,
      "rowLimit": 10000
     },
     "inputWidgets": {},
     "nuid": "490da6d9-7b3a-410f-a778-47cdd8a7fd7b",
     "showTitle": true,
     "title": "Fill NAs with Mean"
    }
   },
   "outputs": [
    {
     "output_type": "display_data",
     "data": {
      "text/html": [
       "<style scoped>\n",
       "  .table-result-container {\n",
       "    max-height: 300px;\n",
       "    overflow: auto;\n",
       "  }\n",
       "  table, th, td {\n",
       "    border: 1px solid black;\n",
       "    border-collapse: collapse;\n",
       "  }\n",
       "  th, td {\n",
       "    padding: 5px;\n",
       "  }\n",
       "  th {\n",
       "    text-align: left;\n",
       "  }\n",
       "</style><div class='table-result-container'><table class='table-result'><thead style='background-color: white'><tr><th>date</th><th>product</th><th>store</th><th>total</th></tr></thead><tbody><tr><td>2023-01-01</td><td>PPDQ1</td><td>A</td><td>366.3</td></tr><tr><td>2023-01-02</td><td>null</td><td>null</td><td>389.5</td></tr><tr><td>2023-01-02</td><td>PPDQ1</td><td>null</td><td>289.78</td></tr><tr><td>2023-01-03</td><td>null</td><td>null</td><td>453.0075</td></tr><tr><td>2023-01-04</td><td>PPDQ3</td><td>A</td><td>766.45</td></tr></tbody></table></div>"
      ]
     },
     "metadata": {
      "application/vnd.databricks.v1+output": {
       "addedWidgets": {},
       "aggData": [],
       "aggError": "",
       "aggOverflow": false,
       "aggSchema": [],
       "aggSeriesLimitReached": false,
       "aggType": "",
       "arguments": {},
       "columnCustomDisplayInfos": {},
       "data": [
        [
         "2023-01-01",
         "PPDQ1",
         "A",
         366.3
        ],
        [
         "2023-01-02",
         null,
         null,
         389.5
        ],
        [
         "2023-01-02",
         "PPDQ1",
         null,
         289.78
        ],
        [
         "2023-01-03",
         null,
         null,
         453.0075
        ],
        [
         "2023-01-04",
         "PPDQ3",
         "A",
         766.45
        ]
       ],
       "datasetInfos": [],
       "dbfsResultPath": null,
       "isJsonSchema": true,
       "metadata": {},
       "overflow": false,
       "plotOptions": {
        "customPlotOptions": {},
        "displayType": "table",
        "pivotAggregation": null,
        "pivotColumns": null,
        "xColumns": null,
        "yColumns": null
       },
       "removedWidgets": [],
       "schema": [
        {
         "metadata": "{}",
         "name": "date",
         "type": "\"string\""
        },
        {
         "metadata": "{}",
         "name": "product",
         "type": "\"string\""
        },
        {
         "metadata": "{}",
         "name": "store",
         "type": "\"string\""
        },
        {
         "metadata": "{}",
         "name": "total",
         "type": "\"double\""
        }
       ],
       "type": "table"
      }
     },
     "output_type": "display_data"
    }
   ],
   "source": [
    "# Calculating the mean and collecting only the numeric value\n",
    "mean_val = sales.select('total').agg(mean('total')).collect()[0][0]\n",
    "\n",
    "display(\n",
    "    sales\n",
    "    .na\n",
    "    .fill(value= mean_val, subset=['total'])\n",
    ")"
   ]
  },
  {
   "cell_type": "code",
   "execution_count": 0,
   "metadata": {
    "application/vnd.databricks.v1+cell": {
     "cellMetadata": {
      "byteLimit": 2048000,
      "rowLimit": 10000
     },
     "inputWidgets": {},
     "nuid": "4dcaa803-64e8-4fb2-966f-f1d18a937302",
     "showTitle": false,
     "title": ""
    }
   },
   "outputs": [
    {
     "output_type": "execute_result",
     "data": {
      "text/plain": [
       "453.0075"
      ]
     },
     "execution_count": 58,
     "metadata": {},
     "output_type": "execute_result"
    }
   ],
   "source": []
  },
  {
   "cell_type": "code",
   "execution_count": 0,
   "metadata": {
    "application/vnd.databricks.v1+cell": {
     "cellMetadata": {},
     "inputWidgets": {},
     "nuid": "8baf5873-9a18-471c-970d-073112c85586",
     "showTitle": false,
     "title": ""
    }
   },
   "outputs": [],
   "source": []
  }
 ],
 "metadata": {
  "application/vnd.databricks.v1+notebook": {
   "dashboards": [],
   "language": "python",
   "notebookMetadata": {
    "pythonIndentUnit": 4
   },
   "notebookName": "Handling Missing Data Lecture 2",
   "widgets": {}
  }
 },
 "nbformat": 4,
 "nbformat_minor": 0
}
