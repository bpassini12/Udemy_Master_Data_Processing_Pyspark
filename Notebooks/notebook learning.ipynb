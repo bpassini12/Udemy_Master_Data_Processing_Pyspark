{
 "cells": [
  {
   "cell_type": "code",
   "execution_count": 0,
   "metadata": {
    "application/vnd.databricks.v1+cell": {
     "cellMetadata": {
      "byteLimit": 2048000,
      "rowLimit": 10000
     },
     "inputWidgets": {},
     "nuid": "88b56ae0-5aad-4ac3-b169-57c6aad3dcce",
     "showTitle": false,
     "title": ""
    }
   },
   "outputs": [],
   "source": [
    "1+1\n",
    "\n",
    "2+2"
   ]
  },
  {
   "cell_type": "code",
   "execution_count": 0,
   "metadata": {
    "application/vnd.databricks.v1+cell": {
     "cellMetadata": {
      "byteLimit": 2048000,
      "rowLimit": 10000
     },
     "inputWidgets": {},
     "nuid": "4d11ddde-0b9e-46b8-a7d0-ab7a6c2f32f0",
     "showTitle": false,
     "title": ""
    }
   },
   "outputs": [],
   "source": [
    "%sql\n",
    "SELECT FROM "
   ]
  },
  {
   "cell_type": "code",
   "execution_count": 0,
   "metadata": {
    "application/vnd.databricks.v1+cell": {
     "cellMetadata": {
      "byteLimit": 2048000,
      "rowLimit": 10000
     },
     "inputWidgets": {},
     "nuid": "e5d733d6-4a0f-490e-bbbf-c7e11cced508",
     "showTitle": true,
     "title": "Dataframe"
    }
   },
   "outputs": [
    {
     "output_type": "display_data",
     "data": {
      "text/html": [
       "<style scoped>\n",
       "  .table-result-container {\n",
       "    max-height: 300px;\n",
       "    overflow: auto;\n",
       "  }\n",
       "  table, th, td {\n",
       "    border: 1px solid black;\n",
       "    border-collapse: collapse;\n",
       "  }\n",
       "  th, td {\n",
       "    padding: 5px;\n",
       "  }\n",
       "  th {\n",
       "    text-align: left;\n",
       "  }\n",
       "</style><div class='table-result-container'><table class='table-result'><thead style='background-color: white'><tr><th>date</th><th>product</th><th>store</th><th>total</th></tr></thead><tbody><tr><td>2023-01-01</td><td>PPDQ1</td><td>A</td><td>366.3</td></tr><tr><td>2023-01-02</td><td>PPDQ2</td><td>A</td><td>389.5</td></tr><tr><td>2023-01-02</td><td>PPDQ1</td><td>B</td><td>289.78</td></tr><tr><td>2023-01-03</td><td>PPDQ6</td><td>A</td><td>367.45</td></tr><tr><td>2023-01-04</td><td>PPDQ3</td><td>A</td><td>766.45</td></tr><tr><td>2023-01-04</td><td>PPDQ3</td><td>B</td><td>703.7</td></tr><tr><td>2023-01-05</td><td>PPDQ3</td><td>A</td><td>426.74</td></tr></tbody></table></div>"
      ]
     },
     "metadata": {
      "application/vnd.databricks.v1+output": {
       "addedWidgets": {},
       "aggData": [],
       "aggError": "",
       "aggOverflow": false,
       "aggSchema": [],
       "aggSeriesLimitReached": false,
       "aggType": "",
       "arguments": {},
       "columnCustomDisplayInfos": {},
       "data": [
        [
         "2023-01-01",
         "PPDQ1",
         "A",
         366.3
        ],
        [
         "2023-01-02",
         "PPDQ2",
         "A",
         389.5
        ],
        [
         "2023-01-02",
         "PPDQ1",
         "B",
         289.78
        ],
        [
         "2023-01-03",
         "PPDQ6",
         "A",
         367.45
        ],
        [
         "2023-01-04",
         "PPDQ3",
         "A",
         766.45
        ],
        [
         "2023-01-04",
         "PPDQ3",
         "B",
         703.7
        ],
        [
         "2023-01-05",
         "PPDQ3",
         "A",
         426.74
        ]
       ],
       "datasetInfos": [],
       "dbfsResultPath": null,
       "isJsonSchema": true,
       "metadata": {},
       "overflow": false,
       "plotOptions": {
        "customPlotOptions": {},
        "displayType": "table",
        "pivotAggregation": null,
        "pivotColumns": null,
        "xColumns": null,
        "yColumns": null
       },
       "removedWidgets": [],
       "schema": [
        {
         "metadata": "{}",
         "name": "date",
         "type": "\"string\""
        },
        {
         "metadata": "{}",
         "name": "product",
         "type": "\"string\""
        },
        {
         "metadata": "{}",
         "name": "store",
         "type": "\"string\""
        },
        {
         "metadata": "{}",
         "name": "total",
         "type": "\"double\""
        }
       ],
       "type": "table"
      }
     },
     "output_type": "display_data"
    }
   ],
   "source": [
    "from pyspark.sql.types import StructType, StructField, StringType, DoubleType\n",
    "from pyspark.sql import functions as F\n",
    "\n",
    "my_data = [(\"2023-01-01\",\"PPDQ1\",\"A\",366.3),\n",
    "        (\"2023-01-02\",\"PPDQ2\",\"A\",389.5),\n",
    "        (\"2023-01-02\",\"PPDQ1\",\"B\",289.78),\n",
    "        (\"2023-01-03\",\"PPDQ6\",\"A\",367.45),\n",
    "        (\"2023-01-04\",\"PPDQ3\",\"A\",766.45),\n",
    "        (\"2023-01-04\",\"PPDQ3\",\"B\",703.7),\n",
    "        (\"2023-01-05\",\"PPDQ3\",\"A\",426.74)\n",
    "  ]\n",
    "\n",
    "schema = StructType([ \\\n",
    "    StructField(\"date\",StringType(),True), \\\n",
    "    StructField(\"product\",StringType(),True), \\\n",
    "    StructField(\"store\",StringType(),True), \\\n",
    "    StructField(\"total\", DoubleType(), True)  ])\n",
    " \n",
    "sales = spark.createDataFrame(data=my_data,schema=schema)\n",
    "\n",
    "# Display\n",
    "display(sales)"
   ]
  },
  {
   "cell_type": "markdown",
   "metadata": {
    "application/vnd.databricks.v1+cell": {
     "cellMetadata": {},
     "inputWidgets": {},
     "nuid": "aef51685-2777-4e96-8dfc-fa13578a535a",
     "showTitle": false,
     "title": ""
    }
   },
   "source": [
    "## Transformations vs Actions"
   ]
  },
  {
   "cell_type": "markdown",
   "metadata": {
    "application/vnd.databricks.v1+cell": {
     "cellMetadata": {},
     "inputWidgets": {},
     "nuid": "d48358b4-3cb7-450b-b60b-81da69c2e3ec",
     "showTitle": false,
     "title": ""
    }
   },
   "source": [
    "**Transformations**, which create a new dataset from an existing one, and actions, which return a value to the driver program after running a computation on the dataset. \n",
    "\n",
    "*Example:* map is a transformation that passes each dataset element through a function and returns a new RDD representing the results.\n",
    "\n",
    "Notice that no Spark Jobs were created."
   ]
  },
  {
   "cell_type": "code",
   "execution_count": 0,
   "metadata": {
    "application/vnd.databricks.v1+cell": {
     "cellMetadata": {
      "byteLimit": 2048000,
      "rowLimit": 10000
     },
     "inputWidgets": {},
     "nuid": "0993e763-7953-41b5-a7bd-11f90cf0cf8c",
     "showTitle": true,
     "title": "Transformation"
    }
   },
   "outputs": [],
   "source": [
    "df = sales.filter( F.col('total') > 700)"
   ]
  },
  {
   "cell_type": "markdown",
   "metadata": {
    "application/vnd.databricks.v1+cell": {
     "cellMetadata": {},
     "inputWidgets": {},
     "nuid": "ff8e5fd3-470b-4799-a935-2c71da52a83a",
     "showTitle": false,
     "title": ""
    }
   },
   "source": [
    "**Actions**, which return a value to the driver program after running a computation on the dataset. \n",
    "\n",
    "*Example:* reduce is an action that aggregates all the elements of the RDD using some function and returns the final result to the driver program.\n",
    "\n",
    "Notice that, in this case, Spark Jobs were created."
   ]
  },
  {
   "cell_type": "code",
   "execution_count": 0,
   "metadata": {
    "application/vnd.databricks.v1+cell": {
     "cellMetadata": {
      "byteLimit": 2048000,
      "rowLimit": 10000
     },
     "inputWidgets": {},
     "nuid": "faca54a0-334a-49ba-b36a-135c897eaf0d",
     "showTitle": true,
     "title": "Actions"
    }
   },
   "outputs": [],
   "source": [
    "df2 = sales.filter( F.col('total') > 700).count()"
   ]
  },
  {
   "cell_type": "code",
   "execution_count": 0,
   "metadata": {
    "application/vnd.databricks.v1+cell": {
     "cellMetadata": {},
     "inputWidgets": {},
     "nuid": "9189003e-299e-48be-a0bc-b16b8688de83",
     "showTitle": false,
     "title": ""
    }
   },
   "outputs": [],
   "source": []
  }
 ],
 "metadata": {
  "application/vnd.databricks.v1+notebook": {
   "dashboards": [],
   "language": "python",
   "notebookMetadata": {
    "pythonIndentUnit": 4
   },
   "notebookName": "notebook learning",
   "widgets": {}
  }
 },
 "nbformat": 4,
 "nbformat_minor": 0
}
