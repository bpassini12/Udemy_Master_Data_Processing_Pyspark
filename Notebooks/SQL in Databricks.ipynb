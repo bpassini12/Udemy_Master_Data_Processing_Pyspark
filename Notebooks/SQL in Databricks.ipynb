{
 "cells": [
  {
   "cell_type": "code",
   "execution_count": 0,
   "metadata": {
    "application/vnd.databricks.v1+cell": {
     "cellMetadata": {
      "byteLimit": 2048000,
      "rowLimit": 10000
     },
     "inputWidgets": {},
     "nuid": "b70d3e86-268c-459d-9b98-e07395b9507c",
     "showTitle": true,
     "title": "Load Data"
    }
   },
   "outputs": [],
   "source": [
    "path = '/databricks-datasets/Rdatasets/data-001/csv/ggplot2/diamonds.csv'\n",
    "\n",
    "# Load data\n",
    "df = spark.read.csv(path, header=True)\n",
    "\n",
    "# Update columns data types\n",
    "df = df.select( col('carat').cast('float'),\n",
    "                'cut', 'color', 'clarity',\n",
    "                col('depth').cast('float'),\n",
    "                col('table').cast('float'),\n",
    "                col('price').cast('float'),\n",
    "                col('x').cast('float'),\n",
    "                col('y').cast('float'),\n",
    "                col('z').cast('float')    )"
   ]
  },
  {
   "cell_type": "code",
   "execution_count": 0,
   "metadata": {
    "application/vnd.databricks.v1+cell": {
     "cellMetadata": {
      "byteLimit": 2048000,
      "rowLimit": 10000
     },
     "inputWidgets": {},
     "nuid": "d31caf90-c449-4481-8876-2ea897dfa451",
     "showTitle": true,
     "title": "Register as SQL"
    }
   },
   "outputs": [],
   "source": [
    "# Register table so it is accessible via SQL Context\n",
    "df.createOrReplaceTempView(\"diamonds\")"
   ]
  },
  {
   "cell_type": "code",
   "execution_count": 0,
   "metadata": {
    "application/vnd.databricks.v1+cell": {
     "cellMetadata": {
      "byteLimit": 2048000,
      "implicitDf": true,
      "rowLimit": 10000
     },
     "inputWidgets": {},
     "nuid": "2592499d-922f-4a9d-b785-4cd800cc8907",
     "showTitle": true,
     "title": "Running first query"
    }
   },
   "outputs": [
    {
     "output_type": "display_data",
     "data": {
      "text/html": [
       "<style scoped>\n",
       "  .table-result-container {\n",
       "    max-height: 300px;\n",
       "    overflow: auto;\n",
       "  }\n",
       "  table, th, td {\n",
       "    border: 1px solid black;\n",
       "    border-collapse: collapse;\n",
       "  }\n",
       "  th, td {\n",
       "    padding: 5px;\n",
       "  }\n",
       "  th {\n",
       "    text-align: left;\n",
       "  }\n",
       "</style><div class='table-result-container'><table class='table-result'><thead style='background-color: white'><tr><th>carat</th><th>cut</th><th>color</th><th>clarity</th><th>depth</th><th>table</th><th>price</th><th>x</th><th>y</th><th>z</th></tr></thead><tbody><tr><td>0.23</td><td>Ideal</td><td>E</td><td>SI2</td><td>61.5</td><td>55.0</td><td>326.0</td><td>3.95</td><td>3.98</td><td>2.43</td></tr><tr><td>0.21</td><td>Premium</td><td>E</td><td>SI1</td><td>59.8</td><td>61.0</td><td>326.0</td><td>3.89</td><td>3.84</td><td>2.31</td></tr><tr><td>0.23</td><td>Good</td><td>E</td><td>VS1</td><td>56.9</td><td>65.0</td><td>327.0</td><td>4.05</td><td>4.07</td><td>2.31</td></tr><tr><td>0.29</td><td>Premium</td><td>I</td><td>VS2</td><td>62.4</td><td>58.0</td><td>334.0</td><td>4.2</td><td>4.23</td><td>2.63</td></tr><tr><td>0.31</td><td>Good</td><td>J</td><td>SI2</td><td>63.3</td><td>58.0</td><td>335.0</td><td>4.34</td><td>4.35</td><td>2.75</td></tr><tr><td>0.24</td><td>Very Good</td><td>J</td><td>VVS2</td><td>62.8</td><td>57.0</td><td>336.0</td><td>3.94</td><td>3.96</td><td>2.48</td></tr><tr><td>0.24</td><td>Very Good</td><td>I</td><td>VVS1</td><td>62.3</td><td>57.0</td><td>336.0</td><td>3.95</td><td>3.98</td><td>2.47</td></tr><tr><td>0.26</td><td>Very Good</td><td>H</td><td>SI1</td><td>61.9</td><td>55.0</td><td>337.0</td><td>4.07</td><td>4.11</td><td>2.53</td></tr><tr><td>0.22</td><td>Fair</td><td>E</td><td>VS2</td><td>65.1</td><td>61.0</td><td>337.0</td><td>3.87</td><td>3.78</td><td>2.49</td></tr><tr><td>0.23</td><td>Very Good</td><td>H</td><td>VS1</td><td>59.4</td><td>61.0</td><td>338.0</td><td>4.0</td><td>4.05</td><td>2.39</td></tr></tbody></table></div>"
      ]
     },
     "metadata": {
      "application/vnd.databricks.v1+output": {
       "addedWidgets": {},
       "aggData": [],
       "aggError": "",
       "aggOverflow": false,
       "aggSchema": [],
       "aggSeriesLimitReached": false,
       "aggType": "",
       "arguments": {},
       "columnCustomDisplayInfos": {},
       "data": [
        [
         0.23,
         "Ideal",
         "E",
         "SI2",
         61.5,
         55.0,
         326.0,
         3.95,
         3.98,
         2.43
        ],
        [
         0.21,
         "Premium",
         "E",
         "SI1",
         59.8,
         61.0,
         326.0,
         3.89,
         3.84,
         2.31
        ],
        [
         0.23,
         "Good",
         "E",
         "VS1",
         56.9,
         65.0,
         327.0,
         4.05,
         4.07,
         2.31
        ],
        [
         0.29,
         "Premium",
         "I",
         "VS2",
         62.4,
         58.0,
         334.0,
         4.2,
         4.23,
         2.63
        ],
        [
         0.31,
         "Good",
         "J",
         "SI2",
         63.3,
         58.0,
         335.0,
         4.34,
         4.35,
         2.75
        ],
        [
         0.24,
         "Very Good",
         "J",
         "VVS2",
         62.8,
         57.0,
         336.0,
         3.94,
         3.96,
         2.48
        ],
        [
         0.24,
         "Very Good",
         "I",
         "VVS1",
         62.3,
         57.0,
         336.0,
         3.95,
         3.98,
         2.47
        ],
        [
         0.26,
         "Very Good",
         "H",
         "SI1",
         61.9,
         55.0,
         337.0,
         4.07,
         4.11,
         2.53
        ],
        [
         0.22,
         "Fair",
         "E",
         "VS2",
         65.1,
         61.0,
         337.0,
         3.87,
         3.78,
         2.49
        ],
        [
         0.23,
         "Very Good",
         "H",
         "VS1",
         59.4,
         61.0,
         338.0,
         4.0,
         4.05,
         2.39
        ]
       ],
       "datasetInfos": [],
       "dbfsResultPath": null,
       "isJsonSchema": true,
       "metadata": {
        "dataframeName": "_sqldf",
        "executionCount": 51
       },
       "overflow": false,
       "plotOptions": {
        "customPlotOptions": {},
        "displayType": "table",
        "pivotAggregation": null,
        "pivotColumns": null,
        "xColumns": null,
        "yColumns": null
       },
       "removedWidgets": [],
       "schema": [
        {
         "metadata": "{}",
         "name": "carat",
         "type": "\"float\""
        },
        {
         "metadata": "{}",
         "name": "cut",
         "type": "\"string\""
        },
        {
         "metadata": "{}",
         "name": "color",
         "type": "\"string\""
        },
        {
         "metadata": "{}",
         "name": "clarity",
         "type": "\"string\""
        },
        {
         "metadata": "{}",
         "name": "depth",
         "type": "\"float\""
        },
        {
         "metadata": "{}",
         "name": "table",
         "type": "\"float\""
        },
        {
         "metadata": "{}",
         "name": "price",
         "type": "\"float\""
        },
        {
         "metadata": "{}",
         "name": "x",
         "type": "\"float\""
        },
        {
         "metadata": "{}",
         "name": "y",
         "type": "\"float\""
        },
        {
         "metadata": "{}",
         "name": "z",
         "type": "\"float\""
        }
       ],
       "type": "table"
      }
     },
     "output_type": "display_data"
    }
   ],
   "source": [
    "%sql\n",
    "SELECT * FROM diamonds LIMIT 10"
   ]
  },
  {
   "cell_type": "code",
   "execution_count": 0,
   "metadata": {
    "application/vnd.databricks.v1+cell": {
     "cellMetadata": {
      "byteLimit": 2048000,
      "implicitDf": true,
      "rowLimit": 10000
     },
     "inputWidgets": {},
     "nuid": "4c08a5a0-7c14-4a96-a33f-aecc0e8677be",
     "showTitle": true,
     "title": "EXAMPLE"
    }
   },
   "outputs": [
    {
     "output_type": "display_data",
     "data": {
      "text/html": [
       "<style scoped>\n",
       "  .table-result-container {\n",
       "    max-height: 300px;\n",
       "    overflow: auto;\n",
       "  }\n",
       "  table, th, td {\n",
       "    border: 1px solid black;\n",
       "    border-collapse: collapse;\n",
       "  }\n",
       "  th, td {\n",
       "    padding: 5px;\n",
       "  }\n",
       "  th {\n",
       "    text-align: left;\n",
       "  }\n",
       "</style><div class='table-result-container'><table class='table-result'><thead style='background-color: white'><tr><th>cut</th><th>avg(price)</th></tr></thead><tbody><tr><td>Premium</td><td>4584.2577042999055</td></tr><tr><td>Ideal</td><td>3457.541970210199</td></tr><tr><td>Good</td><td>3928.864451691806</td></tr><tr><td>Fair</td><td>4358.757763975155</td></tr><tr><td>Very Good</td><td>3981.7598907465654</td></tr></tbody></table></div>"
      ]
     },
     "metadata": {
      "application/vnd.databricks.v1+output": {
       "addedWidgets": {},
       "aggData": [],
       "aggError": "",
       "aggOverflow": false,
       "aggSchema": [],
       "aggSeriesLimitReached": false,
       "aggType": "",
       "arguments": {},
       "columnCustomDisplayInfos": {},
       "data": [
        [
         "Premium",
         4584.2577042999055
        ],
        [
         "Ideal",
         3457.541970210199
        ],
        [
         "Good",
         3928.864451691806
        ],
        [
         "Fair",
         4358.757763975155
        ],
        [
         "Very Good",
         3981.7598907465654
        ]
       ],
       "datasetInfos": [],
       "dbfsResultPath": null,
       "isJsonSchema": true,
       "metadata": {
        "dataframeName": "_sqldf",
        "executionCount": 52
       },
       "overflow": false,
       "plotOptions": {
        "customPlotOptions": {},
        "displayType": "table",
        "pivotAggregation": null,
        "pivotColumns": null,
        "xColumns": null,
        "yColumns": null
       },
       "removedWidgets": [],
       "schema": [
        {
         "metadata": "{}",
         "name": "cut",
         "type": "\"string\""
        },
        {
         "metadata": "{\"__autoGeneratedAlias\":\"true\"}",
         "name": "avg(price)",
         "type": "\"double\""
        }
       ],
       "type": "table"
      }
     },
     "output_type": "display_data"
    }
   ],
   "source": [
    "%sql\n",
    "\n",
    "SELECT cut, AVG(price)\n",
    "FROM diamonds\n",
    "GROUP BY cut"
   ]
  },
  {
   "cell_type": "code",
   "execution_count": 0,
   "metadata": {
    "application/vnd.databricks.v1+cell": {
     "cellMetadata": {
      "byteLimit": 2048000,
      "implicitDf": true,
      "rowLimit": 10000
     },
     "inputWidgets": {},
     "nuid": "9bc9e04e-ec8d-4eae-984c-326dcc696f12",
     "showTitle": false,
     "title": ""
    }
   },
   "outputs": [
    {
     "output_type": "display_data",
     "data": {
      "text/html": [
       "<style scoped>\n",
       "  .table-result-container {\n",
       "    max-height: 300px;\n",
       "    overflow: auto;\n",
       "  }\n",
       "  table, th, td {\n",
       "    border: 1px solid black;\n",
       "    border-collapse: collapse;\n",
       "  }\n",
       "  th, td {\n",
       "    padding: 5px;\n",
       "  }\n",
       "  th {\n",
       "    text-align: left;\n",
       "  }\n",
       "</style><div class='table-result-container'><table class='table-result'><thead style='background-color: white'><tr><th>cut</th><th>min(price)</th><th>max(price)</th></tr></thead><tbody><tr><td>Premium</td><td>326.0</td><td>18823.0</td></tr><tr><td>Ideal</td><td>326.0</td><td>18806.0</td></tr><tr><td>Good</td><td>327.0</td><td>18788.0</td></tr><tr><td>Fair</td><td>337.0</td><td>18574.0</td></tr><tr><td>Very Good</td><td>336.0</td><td>18818.0</td></tr></tbody></table></div>"
      ]
     },
     "metadata": {
      "application/vnd.databricks.v1+output": {
       "addedWidgets": {},
       "aggData": [],
       "aggError": "",
       "aggOverflow": false,
       "aggSchema": [],
       "aggSeriesLimitReached": false,
       "aggType": "",
       "arguments": {},
       "columnCustomDisplayInfos": {},
       "data": [
        [
         "Premium",
         326.0,
         18823.0
        ],
        [
         "Ideal",
         326.0,
         18806.0
        ],
        [
         "Good",
         327.0,
         18788.0
        ],
        [
         "Fair",
         337.0,
         18574.0
        ],
        [
         "Very Good",
         336.0,
         18818.0
        ]
       ],
       "datasetInfos": [],
       "dbfsResultPath": null,
       "isJsonSchema": true,
       "metadata": {
        "dataframeName": "_sqldf",
        "executionCount": 53
       },
       "overflow": false,
       "plotOptions": {
        "customPlotOptions": {},
        "displayType": "table",
        "pivotAggregation": null,
        "pivotColumns": null,
        "xColumns": null,
        "yColumns": null
       },
       "removedWidgets": [],
       "schema": [
        {
         "metadata": "{}",
         "name": "cut",
         "type": "\"string\""
        },
        {
         "metadata": "{\"__autoGeneratedAlias\":\"true\"}",
         "name": "min(price)",
         "type": "\"float\""
        },
        {
         "metadata": "{\"__autoGeneratedAlias\":\"true\"}",
         "name": "max(price)",
         "type": "\"float\""
        }
       ],
       "type": "table"
      }
     },
     "output_type": "display_data"
    }
   ],
   "source": [
    "%sql\n",
    "SELECT cut, MIN(price), MAX(price)\n",
    "FROM diamonds\n",
    "GROUP BY cut"
   ]
  },
  {
   "cell_type": "code",
   "execution_count": 0,
   "metadata": {
    "application/vnd.databricks.v1+cell": {
     "cellMetadata": {
      "byteLimit": 2048000,
      "implicitDf": true,
      "rowLimit": 10000
     },
     "inputWidgets": {},
     "nuid": "41e734b5-2235-43d5-b4b2-b0e2727be7ad",
     "showTitle": false,
     "title": ""
    }
   },
   "outputs": [
    {
     "output_type": "display_data",
     "data": {
      "text/html": [
       "<style scoped>\n",
       "  .table-result-container {\n",
       "    max-height: 300px;\n",
       "    overflow: auto;\n",
       "  }\n",
       "  table, th, td {\n",
       "    border: 1px solid black;\n",
       "    border-collapse: collapse;\n",
       "  }\n",
       "  th, td {\n",
       "    padding: 5px;\n",
       "  }\n",
       "  th {\n",
       "    text-align: left;\n",
       "  }\n",
       "</style><div class='table-result-container'><table class='table-result'><thead style='background-color: white'><tr><th>cut</th><th>p25</th><th>p50</th><th>p75</th><th>p80</th><th>p90</th></tr></thead><tbody><tr><td>Premium</td><td>1046.0</td><td>3185.0</td><td>6296.0</td><td>7485.0</td><td>11413.0</td></tr><tr><td>Ideal</td><td>878.0</td><td>1810.0</td><td>4678.5</td><td>5613.0</td><td>9077.0</td></tr><tr><td>Good</td><td>1145.0</td><td>3050.5</td><td>5028.0</td><td>5834.0</td><td>8736.0</td></tr><tr><td>Fair</td><td>2050.25</td><td>3282.0</td><td>5205.5</td><td>6090.400000000001</td><td>9133.700000000024</td></tr><tr><td>Very Good</td><td>912.0</td><td>2648.0</td><td>5372.75</td><td>6288.0</td><td>9680.9</td></tr></tbody></table></div>"
      ]
     },
     "metadata": {
      "application/vnd.databricks.v1+output": {
       "addedWidgets": {},
       "aggData": [],
       "aggError": "",
       "aggOverflow": false,
       "aggSchema": [],
       "aggSeriesLimitReached": false,
       "aggType": "",
       "arguments": {},
       "columnCustomDisplayInfos": {},
       "data": [
        [
         "Premium",
         1046.0,
         3185.0,
         6296.0,
         7485.0,
         11413.0
        ],
        [
         "Ideal",
         878.0,
         1810.0,
         4678.5,
         5613.0,
         9077.0
        ],
        [
         "Good",
         1145.0,
         3050.5,
         5028.0,
         5834.0,
         8736.0
        ],
        [
         "Fair",
         2050.25,
         3282.0,
         5205.5,
         6090.400000000001,
         9133.700000000024
        ],
        [
         "Very Good",
         912.0,
         2648.0,
         5372.75,
         6288.0,
         9680.9
        ]
       ],
       "datasetInfos": [],
       "dbfsResultPath": null,
       "isJsonSchema": true,
       "metadata": {
        "dataframeName": "_sqldf",
        "executionCount": 54
       },
       "overflow": false,
       "plotOptions": {
        "customPlotOptions": {},
        "displayType": "table",
        "pivotAggregation": null,
        "pivotColumns": null,
        "xColumns": null,
        "yColumns": null
       },
       "removedWidgets": [],
       "schema": [
        {
         "metadata": "{}",
         "name": "cut",
         "type": "\"string\""
        },
        {
         "metadata": "{}",
         "name": "p25",
         "type": "\"double\""
        },
        {
         "metadata": "{}",
         "name": "p50",
         "type": "\"double\""
        },
        {
         "metadata": "{}",
         "name": "p75",
         "type": "\"double\""
        },
        {
         "metadata": "{}",
         "name": "p80",
         "type": "\"double\""
        },
        {
         "metadata": "{}",
         "name": "p90",
         "type": "\"double\""
        }
       ],
       "type": "table"
      }
     },
     "output_type": "display_data"
    }
   ],
   "source": [
    "%sql\n",
    "SELECT cut, PERCENTILE(price, 0.25) as p25,\n",
    "            PERCENTILE(price, 0.5) as p50,\n",
    "            PERCENTILE(price, 0.75) as p75,\n",
    "            PERCENTILE(price, 0.8) as p80,\n",
    "            PERCENTILE(price, 0.9) as p90\n",
    "FROM diamonds\n",
    "GROUP BY cut"
   ]
  },
  {
   "cell_type": "code",
   "execution_count": 0,
   "metadata": {
    "application/vnd.databricks.v1+cell": {
     "cellMetadata": {},
     "inputWidgets": {},
     "nuid": "2d8a94cc-4841-4cc4-9619-f198e4df5f17",
     "showTitle": false,
     "title": ""
    }
   },
   "outputs": [],
   "source": []
  }
 ],
 "metadata": {
  "application/vnd.databricks.v1+notebook": {
   "dashboards": [],
   "language": "python",
   "notebookMetadata": {
    "mostRecentlyExecutedCommandWithImplicitDF": {
     "commandId": 604974110937009,
     "dataframes": [
      "_sqldf"
     ]
    },
    "pythonIndentUnit": 4
   },
   "notebookName": "SQL in Databricks",
   "widgets": {}
  }
 },
 "nbformat": 4,
 "nbformat_minor": 0
}
