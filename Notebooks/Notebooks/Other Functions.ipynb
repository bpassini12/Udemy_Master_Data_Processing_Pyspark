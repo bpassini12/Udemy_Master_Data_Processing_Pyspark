{
 "cells": [
  {
   "cell_type": "code",
   "execution_count": 0,
   "metadata": {
    "application/vnd.databricks.v1+cell": {
     "cellMetadata": {
      "byteLimit": 2048000,
      "rowLimit": 10000
     },
     "inputWidgets": {},
     "nuid": "1b5ac88a-4f96-4102-9f3a-3da313b7e827",
     "showTitle": true,
     "title": "Imports"
    }
   },
   "outputs": [],
   "source": [
    "from pyspark.sql.functions import col, countDistinct, mean, sum, count\n",
    "from pyspark.sql import functions as F"
   ]
  },
  {
   "cell_type": "code",
   "execution_count": 0,
   "metadata": {
    "application/vnd.databricks.v1+cell": {
     "cellMetadata": {
      "byteLimit": 2048000,
      "rowLimit": 10000
     },
     "inputWidgets": {},
     "nuid": "027b3aa0-74b3-4b77-84b1-fb970f0480de",
     "showTitle": true,
     "title": "Load Data"
    }
   },
   "outputs": [],
   "source": [
    "# Point file path\n",
    "path = '/databricks-datasets/Rdatasets/data-001/csv/ggplot2/diamonds.csv'\n",
    "\n",
    "# Load Data\n",
    "df = spark.read.csv(path, header=True)\n",
    "\n",
    "# Update columns data types\n",
    "df = df.select( col('carat').cast('float'),\n",
    "                'cut', 'color', 'clarity',\n",
    "                col('depth').cast('float'),\n",
    "                col('table').cast('float'),\n",
    "                col('price').cast('float'),\n",
    "                col('x').cast('float'),\n",
    "                col('y').cast('float'),\n",
    "                col('z').cast('float')    )"
   ]
  },
  {
   "cell_type": "code",
   "execution_count": 0,
   "metadata": {
    "application/vnd.databricks.v1+cell": {
     "cellMetadata": {
      "byteLimit": 2048000,
      "rowLimit": 10000
     },
     "inputWidgets": {},
     "nuid": "4b1df260-3f17-4ad7-a654-9472fdf9f084",
     "showTitle": true,
     "title": "Sample"
    }
   },
   "outputs": [],
   "source": [
    "display(\n",
    "    df.sample(withReplacement=None, fraction=0.01, seed=123)\n",
    ")"
   ]
  },
  {
   "cell_type": "code",
   "execution_count": 0,
   "metadata": {
    "application/vnd.databricks.v1+cell": {
     "cellMetadata": {
      "byteLimit": 2048000,
      "rowLimit": 10000
     },
     "inputWidgets": {},
     "nuid": "89ab97fe-c42c-48d8-9136-96d8920a7b53",
     "showTitle": true,
     "title": "Data dimensions"
    }
   },
   "outputs": [],
   "source": [
    "print(f'Rows: {df.count():,} and Cols: {len(df.columns)}' )"
   ]
  },
  {
   "cell_type": "code",
   "execution_count": 0,
   "metadata": {
    "application/vnd.databricks.v1+cell": {
     "cellMetadata": {
      "byteLimit": 2048000,
      "rowLimit": 10000
     },
     "inputWidgets": {},
     "nuid": "f19cd3a5-dd8d-44e5-9736-03870d623cd4",
     "showTitle": true,
     "title": "List Values form column"
    }
   },
   "outputs": [],
   "source": [
    "vals = [row.cut for row in df.select('cut').distinct().collect()]\n",
    "vals"
   ]
  },
  {
   "cell_type": "code",
   "execution_count": 0,
   "metadata": {
    "application/vnd.databricks.v1+cell": {
     "cellMetadata": {
      "byteLimit": 2048000,
      "rowLimit": 10000
     },
     "inputWidgets": {},
     "nuid": "294c9523-2e02-4a73-87d9-d7fd4336707c",
     "showTitle": true,
     "title": "Greatest"
    }
   },
   "outputs": [],
   "source": [
    "(df\n",
    " .limit(3)\n",
    " .select(F.greatest('x', 'y', 'z').alias(\"greatest\"))\n",
    " .collect()\n",
    " )"
   ]
  },
  {
   "cell_type": "code",
   "execution_count": 0,
   "metadata": {
    "application/vnd.databricks.v1+cell": {
     "cellMetadata": {
      "byteLimit": 2048000,
      "rowLimit": 10000
     },
     "inputWidgets": {},
     "nuid": "d656c923-46c2-47f5-9327-23c4d9ae5ea0",
     "showTitle": true,
     "title": "Floor and Ceiling"
    }
   },
   "outputs": [],
   "source": [
    "display(df\n",
    "        .withColumn('ceiling', F.ceiling('x'))\n",
    "        .withColumn('floor', F.floor('x'))\n",
    "        .select('x', 'floor', 'ceiling')\n",
    "        )"
   ]
  },
  {
   "cell_type": "code",
   "execution_count": 0,
   "metadata": {
    "application/vnd.databricks.v1+cell": {
     "cellMetadata": {
      "byteLimit": 2048000,
      "rowLimit": 10000
     },
     "inputWidgets": {},
     "nuid": "f7bb7424-09ee-490d-8270-f8f047ae4ce5",
     "showTitle": true,
     "title": "Group and Make a List of grouped values"
    }
   },
   "outputs": [],
   "source": [
    "display(df\n",
    "        .limit(100)\n",
    "        .groupBy('cut')\n",
    "        .agg(F.collect_list('carat') )\n",
    " )"
   ]
  },
  {
   "cell_type": "code",
   "execution_count": 0,
   "metadata": {
    "application/vnd.databricks.v1+cell": {
     "cellMetadata": {
      "byteLimit": 2048000,
      "rowLimit": 10000
     },
     "inputWidgets": {},
     "nuid": "d45ee9cb-8473-4114-9c66-b84ca7f268e5",
     "showTitle": true,
     "title": "Size of a file"
    }
   },
   "outputs": [],
   "source": [
    "dbutils.fs.ls(path)"
   ]
  },
  {
   "cell_type": "code",
   "execution_count": 0,
   "metadata": {
    "application/vnd.databricks.v1+cell": {
     "cellMetadata": {
      "byteLimit": 2048000,
      "rowLimit": 10000
     },
     "inputWidgets": {},
     "nuid": "90083cc1-7573-4542-b426-5f539e85be01",
     "showTitle": true,
     "title": "not Cached"
    }
   },
   "outputs": [],
   "source": [
    "df2 = df.groupBy(\"cut\", 'color').agg(mean('price').alias('avg_price'))\n",
    "df2.count()"
   ]
  },
  {
   "cell_type": "code",
   "execution_count": 0,
   "metadata": {
    "application/vnd.databricks.v1+cell": {
     "cellMetadata": {
      "byteLimit": 2048000,
      "rowLimit": 10000
     },
     "inputWidgets": {},
     "nuid": "e1e59427-d5c5-4f6b-9e1c-bcc058d57137",
     "showTitle": false,
     "title": ""
    }
   },
   "outputs": [],
   "source": [
    "df3 = df2.where(col(\"color\") == 'E')\n",
    "df3.count()"
   ]
  },
  {
   "cell_type": "code",
   "execution_count": 0,
   "metadata": {
    "application/vnd.databricks.v1+cell": {
     "cellMetadata": {
      "byteLimit": 2048000,
      "rowLimit": 10000
     },
     "inputWidgets": {},
     "nuid": "0d6961f1-3e81-4e72-9f9c-53b45ced31e0",
     "showTitle": true,
     "title": "Cache"
    }
   },
   "outputs": [],
   "source": [
    "df2 = df.groupBy(\"cut\", 'color').agg(mean('price').alias('avg_price')).cache()\n",
    "df2.count()"
   ]
  },
  {
   "cell_type": "code",
   "execution_count": 0,
   "metadata": {
    "application/vnd.databricks.v1+cell": {
     "cellMetadata": {
      "byteLimit": 2048000,
      "rowLimit": 10000
     },
     "inputWidgets": {},
     "nuid": "aa02957b-d171-45f9-8734-915fc80dd195",
     "showTitle": false,
     "title": ""
    }
   },
   "outputs": [],
   "source": [
    "df3 = df2.where(col(\"color\") == 'E')\n",
    "df3.count()"
   ]
  },
  {
   "cell_type": "markdown",
   "metadata": {
    "application/vnd.databricks.v1+cell": {
     "cellMetadata": {},
     "inputWidgets": {},
     "nuid": "fec36188-66c4-4508-b32e-3e01a14bcc7c",
     "showTitle": true,
     "title": "Consideration"
    }
   },
   "source": [
    "Notice that cache might not be the best option for all the cases. Sometimes, the dataset is small and fits well in the temporary memory, being processed faster than the cached version. \n",
    "\n",
    "The cached version, give it's parallelized, can become larger than the original data, in that case, leading to a worse performance. \n",
    "For large data, though, it's always a good option to consider."
   ]
  },
  {
   "cell_type": "code",
   "execution_count": 0,
   "metadata": {
    "application/vnd.databricks.v1+cell": {
     "cellMetadata": {
      "byteLimit": 2048000,
      "implicitDf": true,
      "rowLimit": 10000
     },
     "inputWidgets": {},
     "nuid": "b02e4b20-9a14-45f7-8c4c-ef4e9d321852",
     "showTitle": false,
     "title": ""
    }
   },
   "outputs": [],
   "source": [
    "%sql\n",
    "clear cache"
   ]
  },
  {
   "cell_type": "code",
   "execution_count": 0,
   "metadata": {
    "application/vnd.databricks.v1+cell": {
     "cellMetadata": {
      "byteLimit": 2048000,
      "rowLimit": 10000
     },
     "inputWidgets": {},
     "nuid": "4047615a-86ce-40d3-b64d-46b95ca574df",
     "showTitle": true,
     "title": "Percentile"
    }
   },
   "outputs": [
    {
     "output_type": "display_data",
     "data": {
      "text/html": [
       "<style scoped>\n",
       "  .table-result-container {\n",
       "    max-height: 300px;\n",
       "    overflow: auto;\n",
       "  }\n",
       "  table, th, td {\n",
       "    border: 1px solid black;\n",
       "    border-collapse: collapse;\n",
       "  }\n",
       "  th, td {\n",
       "    padding: 5px;\n",
       "  }\n",
       "  th {\n",
       "    text-align: left;\n",
       "  }\n",
       "</style><div class='table-result-container'><table class='table-result'><thead style='background-color: white'><tr><th>25th</th><th>median_price</th><th>75th</th><th>95th</th></tr></thead><tbody><tr><td>950.0</td><td>2401.0</td><td>5324.25</td><td>13107.099999999991</td></tr></tbody></table></div>"
      ]
     },
     "metadata": {
      "application/vnd.databricks.v1+output": {
       "addedWidgets": {},
       "aggData": [],
       "aggError": "",
       "aggOverflow": false,
       "aggSchema": [],
       "aggSeriesLimitReached": false,
       "aggType": "",
       "arguments": {},
       "columnCustomDisplayInfos": {},
       "data": [
        [
         950.0,
         2401.0,
         5324.25,
         13107.099999999991
        ]
       ],
       "datasetInfos": [],
       "dbfsResultPath": null,
       "isJsonSchema": true,
       "metadata": {},
       "overflow": false,
       "plotOptions": {
        "customPlotOptions": {},
        "displayType": "table",
        "pivotAggregation": null,
        "pivotColumns": null,
        "xColumns": null,
        "yColumns": null
       },
       "removedWidgets": [],
       "schema": [
        {
         "metadata": "{}",
         "name": "25th",
         "type": "\"double\""
        },
        {
         "metadata": "{}",
         "name": "median_price",
         "type": "\"double\""
        },
        {
         "metadata": "{}",
         "name": "75th",
         "type": "\"double\""
        },
        {
         "metadata": "{}",
         "name": "95th",
         "type": "\"double\""
        }
       ],
       "type": "table"
      }
     },
     "output_type": "display_data"
    }
   ],
   "source": [
    "display(\n",
    "    df\n",
    "    .agg(F.percentile('price', .25).alias('25th'),\n",
    "         F.percentile('price', .5).alias('median_price'),\n",
    "         F.percentile('price', .75).alias('75th'),\n",
    "         F.percentile('price', .95).alias('95th'))\n",
    ")"
   ]
  },
  {
   "cell_type": "code",
   "execution_count": 0,
   "metadata": {
    "application/vnd.databricks.v1+cell": {
     "cellMetadata": {},
     "inputWidgets": {},
     "nuid": "d4112a52-901b-4b8d-ac39-c6710d00f5b5",
     "showTitle": false,
     "title": ""
    }
   },
   "outputs": [],
   "source": []
  }
 ],
 "metadata": {
  "application/vnd.databricks.v1+notebook": {
   "dashboards": [],
   "language": "python",
   "notebookMetadata": {
    "mostRecentlyExecutedCommandWithImplicitDF": {
     "commandId": 3481258160231148,
     "dataframes": [
      "_sqldf"
     ]
    },
    "pythonIndentUnit": 4
   },
   "notebookName": "Other Functions",
   "widgets": {}
  }
 },
 "nbformat": 4,
 "nbformat_minor": 0
}
