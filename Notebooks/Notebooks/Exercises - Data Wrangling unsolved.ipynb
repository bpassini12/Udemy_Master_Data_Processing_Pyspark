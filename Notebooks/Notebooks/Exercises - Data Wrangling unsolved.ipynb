{
 "cells": [
  {
   "cell_type": "code",
   "execution_count": 0,
   "metadata": {
    "application/vnd.databricks.v1+cell": {
     "cellMetadata": {
      "byteLimit": 2048000,
      "rowLimit": 10000
     },
     "inputWidgets": {},
     "nuid": "2b42fbeb-c675-4a49-a564-2c57dee51ef0",
     "showTitle": true,
     "title": "Imports"
    }
   },
   "outputs": [],
   "source": []
  },
  {
   "cell_type": "code",
   "execution_count": 0,
   "metadata": {
    "application/vnd.databricks.v1+cell": {
     "cellMetadata": {
      "byteLimit": 2048000,
      "rowLimit": 10000
     },
     "inputWidgets": {},
     "nuid": "dd6f6ed1-1a03-4687-8c5a-a8496ee7eaf3",
     "showTitle": true,
     "title": "Load Data"
    }
   },
   "outputs": [],
   "source": [
    "path = '/databricks-datasets/Rdatasets/data-001/csv/ggplot2/diamonds.csv'\n",
    "\n",
    "# Tip: don't forget to inferSchema"
   ]
  },
  {
   "cell_type": "code",
   "execution_count": 0,
   "metadata": {
    "application/vnd.databricks.v1+cell": {
     "cellMetadata": {
      "byteLimit": 2048000,
      "rowLimit": 10000
     },
     "inputWidgets": {},
     "nuid": "96b4ed57-da67-42fa-8eff-50acfe558d2c",
     "showTitle": true,
     "title": "Display the data"
    }
   },
   "outputs": [],
   "source": []
  },
  {
   "cell_type": "code",
   "execution_count": 0,
   "metadata": {
    "application/vnd.databricks.v1+cell": {
     "cellMetadata": {
      "byteLimit": 2048000,
      "rowLimit": 10000
     },
     "inputWidgets": {},
     "nuid": "f7a6ab53-b577-42c8-b305-3f1d9357ad87",
     "showTitle": true,
     "title": "Filter the Data to show only Ideal diamonds"
    }
   },
   "outputs": [],
   "source": []
  },
  {
   "cell_type": "code",
   "execution_count": 0,
   "metadata": {
    "application/vnd.databricks.v1+cell": {
     "cellMetadata": {
      "byteLimit": 2048000,
      "rowLimit": 10000
     },
     "inputWidgets": {},
     "nuid": "49adafb6-ead5-4602-8074-e475b16ae409",
     "showTitle": true,
     "title": "Select only columns cut, color and and Price"
    }
   },
   "outputs": [],
   "source": []
  },
  {
   "cell_type": "code",
   "execution_count": 0,
   "metadata": {
    "application/vnd.databricks.v1+cell": {
     "cellMetadata": {
      "byteLimit": 2048000,
      "rowLimit": 10000
     },
     "inputWidgets": {},
     "nuid": "f88b8512-162f-42d2-a8a1-b0359275c3b0",
     "showTitle": true,
     "title": "Create a new column "
    }
   },
   "outputs": [],
   "source": [
    "# Instructions\n",
    "# The column must be named \"price2\"\n",
    "# It should show \"Expensive\" for any diamond over $10k, \"Average\" between $2-10k and \"Cheap\" if price less than $2k. "
   ]
  },
  {
   "cell_type": "code",
   "execution_count": 0,
   "metadata": {
    "application/vnd.databricks.v1+cell": {
     "cellMetadata": {
      "byteLimit": 2048000,
      "rowLimit": 10000
     },
     "inputWidgets": {},
     "nuid": "2ad6ffd7-e866-47de-b683-e75358ec84a9",
     "showTitle": true,
     "title": "Rename a column"
    }
   },
   "outputs": [],
   "source": [
    "# Rename the recently created column \"price2\" to \"price_tier\""
   ]
  },
  {
   "cell_type": "code",
   "execution_count": 0,
   "metadata": {
    "application/vnd.databricks.v1+cell": {
     "cellMetadata": {
      "byteLimit": 2048000,
      "rowLimit": 10000
     },
     "inputWidgets": {},
     "nuid": "827c02c4-3ec0-4274-9f83-68b068c52b02",
     "showTitle": true,
     "title": "Aggregate, Count and Sort"
    }
   },
   "outputs": [],
   "source": [
    "# Count the quantity of diamonds by price_tier\n",
    "# Show the average price of each tier"
   ]
  },
  {
   "cell_type": "code",
   "execution_count": 0,
   "metadata": {
    "application/vnd.databricks.v1+cell": {
     "cellMetadata": {
      "byteLimit": 2048000,
      "rowLimit": 10000
     },
     "inputWidgets": {},
     "nuid": "ee468a68-545b-4c26-8d2b-aef734b8bc8e",
     "showTitle": true,
     "title": "Case When"
    }
   },
   "outputs": [],
   "source": [
    "# Use Case When to create a new colum\n",
    "# When price_tier is \"Expensive\", replace with 1, \"Average\" = 2 and \"Cheap\" = 3"
   ]
  },
  {
   "cell_type": "code",
   "execution_count": 0,
   "metadata": {
    "application/vnd.databricks.v1+cell": {
     "cellMetadata": {
      "byteLimit": 2048000,
      "rowLimit": 10000
     },
     "inputWidgets": {},
     "nuid": "f40dc958-c8d1-4bc4-8d2f-7004d19e2e27",
     "showTitle": true,
     "title": "Left Join these two datasets"
    }
   },
   "outputs": [],
   "source": [
    "# Dataset 1\n",
    "columns1 = [\"ID\",\"user\"]\n",
    "data = [(\"1\", \"JP\"), (\"2\", \"RD\"), (\"3\", \"KJ\")]\n",
    "rdd1 = spark.sparkContext.parallelize(data)\n",
    "df1 = rdd1.toDF(columns1)\n",
    "\n",
    "# Dataset 2\n",
    "columns2 = [\"ID\",\"clicks\"]\n",
    "data = [(\"1\", 10), (\"2\", 55), (\"4\", 34)]\n",
    "rdd2 = spark.sparkContext.parallelize(data)\n",
    "df2 = rdd2.toDF(columns2)\n",
    "\n",
    "display(df1)\n",
    "display(df2)"
   ]
  },
  {
   "cell_type": "code",
   "execution_count": 0,
   "metadata": {
    "application/vnd.databricks.v1+cell": {
     "cellMetadata": {
      "byteLimit": 2048000,
      "rowLimit": 10000
     },
     "inputWidgets": {},
     "nuid": "8e2163e8-3c83-4f96-aada-0208a624e3ac",
     "showTitle": true,
     "title": "LEFT JOIN"
    }
   },
   "outputs": [],
   "source": []
  },
  {
   "cell_type": "code",
   "execution_count": 0,
   "metadata": {
    "application/vnd.databricks.v1+cell": {
     "cellMetadata": {
      "byteLimit": 2048000,
      "rowLimit": 10000
     },
     "inputWidgets": {},
     "nuid": "749077db-f335-4ff7-8e79-486acec7599f",
     "showTitle": true,
     "title": "Save the Dataset in Databricks File System"
    }
   },
   "outputs": [],
   "source": []
  },
  {
   "cell_type": "code",
   "execution_count": 0,
   "metadata": {
    "application/vnd.databricks.v1+cell": {
     "cellMetadata": {},
     "inputWidgets": {},
     "nuid": "9560955b-1d56-40a0-a4a2-3617a4fecbf2",
     "showTitle": false,
     "title": ""
    }
   },
   "outputs": [],
   "source": []
  }
 ],
 "metadata": {
  "application/vnd.databricks.v1+notebook": {
   "dashboards": [],
   "language": "python",
   "notebookMetadata": {
    "pythonIndentUnit": 4
   },
   "notebookName": "Exercises - Data Wrangling Blank",
   "widgets": {}
  }
 },
 "nbformat": 4,
 "nbformat_minor": 0
}
