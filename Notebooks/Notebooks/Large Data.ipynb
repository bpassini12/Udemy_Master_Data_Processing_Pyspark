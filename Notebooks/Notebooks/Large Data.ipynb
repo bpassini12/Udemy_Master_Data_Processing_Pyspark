{
 "cells": [
  {
   "cell_type": "code",
   "execution_count": 0,
   "metadata": {
    "application/vnd.databricks.v1+cell": {
     "cellMetadata": {
      "byteLimit": 2048000,
      "rowLimit": 10000
     },
     "inputWidgets": {},
     "nuid": "e7645498-baaa-479a-8c11-a781312ca3a2",
     "showTitle": true,
     "title": "Imports"
    }
   },
   "outputs": [],
   "source": [
    "from pyspark.sql import functions as F\n",
    "from pyspark.sql.functions import mean, sum, max, min, percentile, countDistinct, col"
   ]
  },
  {
   "cell_type": "code",
   "execution_count": 0,
   "metadata": {
    "application/vnd.databricks.v1+cell": {
     "cellMetadata": {
      "byteLimit": 2048000,
      "rowLimit": 10000
     },
     "inputWidgets": {},
     "nuid": "40b2a067-ca33-46b5-a823-656814e350b7",
     "showTitle": true,
     "title": "Load Data"
    }
   },
   "outputs": [],
   "source": [
    "# Point file path\n",
    "path = '/databricks-datasets/Rdatasets/data-001/csv/ggplot2/diamonds.csv'\n",
    "\n",
    "# Load Data\n",
    "df = spark.read.csv(path, header=True)\n",
    "\n",
    "# Update columns data types\n",
    "df = df.select( col('carat').cast('float'),\n",
    "                'cut', 'color', 'clarity',\n",
    "                col('depth').cast('float'),\n",
    "                col('table').cast('float'),\n",
    "                col('price').cast('float'),\n",
    "                col('x').cast('float'),\n",
    "                col('y').cast('float'),\n",
    "                col('z').cast('float')    )"
   ]
  },
  {
   "cell_type": "code",
   "execution_count": 0,
   "metadata": {
    "application/vnd.databricks.v1+cell": {
     "cellMetadata": {
      "byteLimit": 2048000,
      "rowLimit": 10000
     },
     "inputWidgets": {},
     "nuid": "f8bb8951-da4d-4bcf-aa33-07a65b918563",
     "showTitle": true,
     "title": "Large Data"
    }
   },
   "outputs": [
    {
     "output_type": "execute_result",
     "data": {
      "text/plain": [
       "5340060"
      ]
     },
     "execution_count": 19,
     "metadata": {},
     "output_type": "execute_result"
    }
   ],
   "source": [
    "large = (\n",
    "    df\n",
    "    .union(df).union(df).union(df).union(df).union(df).union(df).union(df)\n",
    "    .union(df).union(df).union(df).union(df).union(df).union(df).union(df)\n",
    "    .union(df).union(df).union(df).union(df).union(df).union(df).union(df)\n",
    "    .union(df).union(df).union(df).union(df).union(df).union(df).union(df)\n",
    "    .union(df).union(df).union(df).union(df).union(df).union(df).union(df)\n",
    "    .union(df).union(df).union(df).union(df).union(df).union(df).union(df)\n",
    "    .union(df).union(df).union(df).union(df).union(df).union(df).union(df)\n",
    "    .union(df).union(df).union(df).union(df).union(df).union(df).union(df)\n",
    "    .union(df).union(df).union(df).union(df).union(df).union(df).union(df)\n",
    "    .union(df).union(df).union(df).union(df).union(df).union(df).union(df)\n",
    "    .union(df).union(df).union(df).union(df).union(df).union(df).union(df)\n",
    "    .union(df).union(df).union(df).union(df).union(df).union(df).union(df)\n",
    "    .union(df).union(df).union(df).union(df).union(df).union(df).union(df)\n",
    "    .union(df).union(df).union(df).union(df).union(df).union(df).union(df)\n",
    ")\n",
    "\n",
    "# Cache data\n",
    "large = large.cache()\n",
    "\n",
    "# Run count to trigger job\n",
    "large.count()"
   ]
  },
  {
   "cell_type": "code",
   "execution_count": 0,
   "metadata": {
    "application/vnd.databricks.v1+cell": {
     "cellMetadata": {
      "byteLimit": 2048000,
      "implicitDf": true,
      "rowLimit": 10000
     },
     "inputWidgets": {},
     "nuid": "47098538-3c39-4e8f-99fc-6e19952cd9c6",
     "showTitle": false,
     "title": ""
    }
   },
   "outputs": [
    {
     "output_type": "display_data",
     "data": {
      "text/html": [
       "<style scoped>\n",
       "  .table-result-container {\n",
       "    max-height: 300px;\n",
       "    overflow: auto;\n",
       "  }\n",
       "  table, th, td {\n",
       "    border: 1px solid black;\n",
       "    border-collapse: collapse;\n",
       "  }\n",
       "  th, td {\n",
       "    padding: 5px;\n",
       "  }\n",
       "  th {\n",
       "    text-align: left;\n",
       "  }\n",
       "</style><div class='table-result-container'><table class='table-result'><thead style='background-color: white'><tr><th>cut</th><th>color</th><th>total</th><th>avg_total</th><th>ct</th></tr></thead><tbody><tr><td>Very Good</td><td>D</td><td>5.19830883E8</td><td>3470.4672835426304</td><td>149787</td></tr><tr><td>Premium</td><td>E</td><td>8.18773857E8</td><td>3538.9144201968334</td><td>231363</td></tr><tr><td>Ideal</td><td>D</td><td>7.37634546E8</td><td>2629.0945659844742</td><td>280566</td></tr><tr><td>Good</td><td>F</td><td>3.14586063E8</td><td>3495.7502750275025</td><td>89991</td></tr><tr><td>Premium</td><td>D</td><td>5.76275238E8</td><td>3631.292576419214</td><td>158697</td></tr><tr><td>Ideal</td><td>J</td><td>4.36262805E8</td><td>4918.186383928572</td><td>88704</td></tr><tr><td>Ideal</td><td>I</td><td>9.22479426E8</td><td>4451.970377448638</td><td>207207</td></tr><tr><td>Very Good</td><td>I</td><td>6.26479821E8</td><td>5255.879568106312</td><td>119196</td></tr><tr><td>Good</td><td>D</td><td>2.23181937E8</td><td>3405.3821752265862</td><td>65538</td></tr><tr><td>Fair</td><td>D</td><td>6.9244857E7</td><td>4291.061349693252</td><td>16137</td></tr><tr><td>Good</td><td>G</td><td>3.55563747E8</td><td>4123.482204362801</td><td>86229</td></tr><tr><td>Good</td><td>H</td><td>2.97191169E8</td><td>4276.254985754986</td><td>69498</td></tr><tr><td>Premium</td><td>J</td><td>5.0351697E8</td><td>6294.591584158416</td><td>79992</td></tr><tr><td>Fair</td><td>F</td><td>1.18208475E8</td><td>3827.003205128205</td><td>30888</td></tr><tr><td>Ideal</td><td>G</td><td>1.79902107E9</td><td>3720.706388206388</td><td>483516</td></tr><tr><td>Very Good</td><td>H</td><td>8.18982648E8</td><td>4535.390350877193</td><td>180576</td></tr><tr><td>Very Good</td><td>E</td><td>7.63801335E8</td><td>3214.6520833333334</td><td>237600</td></tr><tr><td>Good</td><td>I</td><td>2.62448406E8</td><td>5078.532567049809</td><td>51678</td></tr><tr><td>Premium</td><td>F</td><td>9.98050581E8</td><td>4324.890175890176</td><td>230769</td></tr><tr><td>Fair</td><td>J</td><td>5.8618197E7</td><td>4975.655462184874</td><td>11781</td></tr><tr><td>Premium</td><td>I</td><td>8.40623454E8</td><td>5946.180672268908</td><td>141372</td></tr><tr><td>Very Good</td><td>J</td><td>3.42558018E8</td><td>5103.513274336283</td><td>67122</td></tr><tr><td>Fair</td><td>G</td><td>1.31781474E8</td><td>4239.254777070064</td><td>31086</td></tr><tr><td>Good</td><td>J</td><td>1.39022829E8</td><td>4574.172638436482</td><td>30393</td></tr><tr><td>Premium</td><td>G</td><td>1.30285683E9</td><td>4500.742134062927</td><td>289476</td></tr><tr><td>Very Good</td><td>F</td><td>8.09559333E8</td><td>3778.8202402957486</td><td>214236</td></tr><tr><td>Ideal</td><td>F</td><td>1.278339282E9</td><td>3374.9393622582334</td><td>378774</td></tr><tr><td>Ideal</td><td>E</td><td>1.003685562E9</td><td>2597.5500896746094</td><td>386397</td></tr><tr><td>Good</td><td>E</td><td>3.1623174E8</td><td>3423.6441586280816</td><td>92367</td></tr><tr><td>Fair</td><td>H</td><td>1.54055088E8</td><td>5135.683168316832</td><td>29997</td></tr><tr><td>Ideal</td><td>H</td><td>1.199412522E9</td><td>3889.334831460674</td><td>308385</td></tr><tr><td>Fair</td><td>I</td><td>8.1175347E7</td><td>4685.4457142857145</td><td>17325</td></tr><tr><td>Fair</td><td>E</td><td>8.1658962E7</td><td>3682.3125</td><td>22176</td></tr><tr><td>Premium</td><td>H</td><td>1.218831372E9</td><td>5216.706779661017</td><td>233640</td></tr><tr><td>Very Good</td><td>G</td><td>8.81442639E8</td><td>3872.75380600261</td><td>227601</td></tr></tbody></table></div>"
      ]
     },
     "metadata": {
      "application/vnd.databricks.v1+output": {
       "addedWidgets": {},
       "aggData": [],
       "aggError": "",
       "aggOverflow": false,
       "aggSchema": [],
       "aggSeriesLimitReached": false,
       "aggType": "",
       "arguments": {},
       "columnCustomDisplayInfos": {},
       "data": [
        [
         "Very Good",
         "D",
         5.19830883E8,
         3470.4672835426304,
         149787
        ],
        [
         "Premium",
         "E",
         8.18773857E8,
         3538.9144201968334,
         231363
        ],
        [
         "Ideal",
         "D",
         7.37634546E8,
         2629.0945659844742,
         280566
        ],
        [
         "Good",
         "F",
         3.14586063E8,
         3495.7502750275025,
         89991
        ],
        [
         "Premium",
         "D",
         5.76275238E8,
         3631.292576419214,
         158697
        ],
        [
         "Ideal",
         "J",
         4.36262805E8,
         4918.186383928572,
         88704
        ],
        [
         "Ideal",
         "I",
         9.22479426E8,
         4451.970377448638,
         207207
        ],
        [
         "Very Good",
         "I",
         6.26479821E8,
         5255.879568106312,
         119196
        ],
        [
         "Good",
         "D",
         2.23181937E8,
         3405.3821752265862,
         65538
        ],
        [
         "Fair",
         "D",
         6.9244857E7,
         4291.061349693252,
         16137
        ],
        [
         "Good",
         "G",
         3.55563747E8,
         4123.482204362801,
         86229
        ],
        [
         "Good",
         "H",
         2.97191169E8,
         4276.254985754986,
         69498
        ],
        [
         "Premium",
         "J",
         5.0351697E8,
         6294.591584158416,
         79992
        ],
        [
         "Fair",
         "F",
         1.18208475E8,
         3827.003205128205,
         30888
        ],
        [
         "Ideal",
         "G",
         1.79902107E9,
         3720.706388206388,
         483516
        ],
        [
         "Very Good",
         "H",
         8.18982648E8,
         4535.390350877193,
         180576
        ],
        [
         "Very Good",
         "E",
         7.63801335E8,
         3214.6520833333334,
         237600
        ],
        [
         "Good",
         "I",
         2.62448406E8,
         5078.532567049809,
         51678
        ],
        [
         "Premium",
         "F",
         9.98050581E8,
         4324.890175890176,
         230769
        ],
        [
         "Fair",
         "J",
         5.8618197E7,
         4975.655462184874,
         11781
        ],
        [
         "Premium",
         "I",
         8.40623454E8,
         5946.180672268908,
         141372
        ],
        [
         "Very Good",
         "J",
         3.42558018E8,
         5103.513274336283,
         67122
        ],
        [
         "Fair",
         "G",
         1.31781474E8,
         4239.254777070064,
         31086
        ],
        [
         "Good",
         "J",
         1.39022829E8,
         4574.172638436482,
         30393
        ],
        [
         "Premium",
         "G",
         1.30285683E9,
         4500.742134062927,
         289476
        ],
        [
         "Very Good",
         "F",
         8.09559333E8,
         3778.8202402957486,
         214236
        ],
        [
         "Ideal",
         "F",
         1.278339282E9,
         3374.9393622582334,
         378774
        ],
        [
         "Ideal",
         "E",
         1.003685562E9,
         2597.5500896746094,
         386397
        ],
        [
         "Good",
         "E",
         3.1623174E8,
         3423.6441586280816,
         92367
        ],
        [
         "Fair",
         "H",
         1.54055088E8,
         5135.683168316832,
         29997
        ],
        [
         "Ideal",
         "H",
         1.199412522E9,
         3889.334831460674,
         308385
        ],
        [
         "Fair",
         "I",
         8.1175347E7,
         4685.4457142857145,
         17325
        ],
        [
         "Fair",
         "E",
         8.1658962E7,
         3682.3125,
         22176
        ],
        [
         "Premium",
         "H",
         1.218831372E9,
         5216.706779661017,
         233640
        ],
        [
         "Very Good",
         "G",
         8.81442639E8,
         3872.75380600261,
         227601
        ]
       ],
       "datasetInfos": [],
       "dbfsResultPath": null,
       "isJsonSchema": true,
       "metadata": {},
       "overflow": false,
       "plotOptions": {
        "customPlotOptions": {},
        "displayType": "table",
        "pivotAggregation": null,
        "pivotColumns": null,
        "xColumns": null,
        "yColumns": null
       },
       "removedWidgets": [],
       "schema": [
        {
         "metadata": "{}",
         "name": "cut",
         "type": "\"string\""
        },
        {
         "metadata": "{}",
         "name": "color",
         "type": "\"string\""
        },
        {
         "metadata": "{}",
         "name": "total",
         "type": "\"double\""
        },
        {
         "metadata": "{}",
         "name": "avg_total",
         "type": "\"double\""
        },
        {
         "metadata": "{}",
         "name": "ct",
         "type": "\"long\""
        }
       ],
       "type": "table"
      }
     },
     "output_type": "display_data"
    }
   ],
   "source": [
    "display(\n",
    "    large\n",
    "    .groupBy('cut', 'color')\n",
    "    .agg( sum('price').alias('total'),\n",
    "          mean('price').alias('avg_total'),\n",
    "          F.count('cut').alias('ct'),)\n",
    ")"
   ]
  },
  {
   "cell_type": "code",
   "execution_count": 0,
   "metadata": {
    "application/vnd.databricks.v1+cell": {
     "cellMetadata": {
      "byteLimit": 2048000,
      "rowLimit": 10000
     },
     "inputWidgets": {},
     "nuid": "9017b95c-68b4-4a0d-8db6-25ba9ce5c41d",
     "showTitle": true,
     "title": "SILVER LAYER"
    }
   },
   "outputs": [],
   "source": [
    "silver = (\n",
    "    large\n",
    "    .select('cut', 'color', 'price')\n",
    "    .dropDuplicates()\n",
    ")\n",
    "\n",
    "# Save\n",
    "save_path = '/FileStore/tables/silver'\n",
    "silver.write.format('parquet').save(save_path)"
   ]
  },
  {
   "cell_type": "code",
   "execution_count": 0,
   "metadata": {
    "application/vnd.databricks.v1+cell": {
     "cellMetadata": {
      "byteLimit": 2048000,
      "rowLimit": 10000
     },
     "inputWidgets": {},
     "nuid": "cfd2c52a-d921-42e2-ba64-50e1c87853aa",
     "showTitle": true,
     "title": "Loading Silver Layer"
    }
   },
   "outputs": [],
   "source": [
    "# Loading data\n",
    "silver = spark.read.parquet(save_path)"
   ]
  },
  {
   "cell_type": "code",
   "execution_count": 0,
   "metadata": {
    "application/vnd.databricks.v1+cell": {
     "cellMetadata": {
      "byteLimit": 2048000,
      "rowLimit": 10000
     },
     "inputWidgets": {},
     "nuid": "3dece6e2-d8bc-422d-b7a0-3789734e2bac",
     "showTitle": true,
     "title": "GOLD LAYER"
    }
   },
   "outputs": [
    {
     "output_type": "display_data",
     "data": {
      "text/html": [
       "<style scoped>\n",
       "  .table-result-container {\n",
       "    max-height: 300px;\n",
       "    overflow: auto;\n",
       "  }\n",
       "  table, th, td {\n",
       "    border: 1px solid black;\n",
       "    border-collapse: collapse;\n",
       "  }\n",
       "  th, td {\n",
       "    padding: 5px;\n",
       "  }\n",
       "  th {\n",
       "    text-align: left;\n",
       "  }\n",
       "</style><div class='table-result-container'><table class='table-result'><thead style='background-color: white'><tr><th>cut</th><th>color</th><th>total</th></tr></thead><tbody><tr><td>Very Good</td><td>D</td><td>4481657.0</td></tr><tr><td>Premium</td><td>E</td><td>6204025.0</td></tr><tr><td>Ideal</td><td>D</td><td>5535809.0</td></tr><tr><td>Good</td><td>F</td><td>2742611.0</td></tr><tr><td>Premium</td><td>D</td><td>4704693.0</td></tr><tr><td>Ideal</td><td>J</td><td>4198819.0</td></tr><tr><td>Ideal</td><td>I</td><td>8270822.0</td></tr><tr><td>Very Good</td><td>I</td><td>5858939.0</td></tr><tr><td>Good</td><td>D</td><td>1976807.0</td></tr><tr><td>Fair</td><td>D</td><td>628203.0</td></tr><tr><td>Good</td><td>G</td><td>3181346.0</td></tr><tr><td>Premium</td><td>J</td><td>4570635.0</td></tr><tr><td>Good</td><td>H</td><td>2727618.0</td></tr><tr><td>Fair</td><td>F</td><td>1117958.0</td></tr><tr><td>Ideal</td><td>G</td><td>1.4152808E7</td></tr><tr><td>Very Good</td><td>H</td><td>7225470.0</td></tr><tr><td>Very Good</td><td>E</td><td>6331847.0</td></tr><tr><td>Good</td><td>I</td><td>2470026.0</td></tr><tr><td>Premium</td><td>F</td><td>7881530.0</td></tr><tr><td>Fair</td><td>J</td><td>582138.0</td></tr><tr><td>Premium</td><td>I</td><td>7355490.0</td></tr><tr><td>Very Good</td><td>J</td><td>3219312.0</td></tr><tr><td>Fair</td><td>G</td><td>1223757.0</td></tr><tr><td>Good</td><td>J</td><td>1348218.0</td></tr><tr><td>Premium</td><td>G</td><td>1.0192377E7</td></tr><tr><td>Very Good</td><td>F</td><td>6888469.0</td></tr><tr><td>Ideal</td><td>F</td><td>1.0244998E7</td></tr><tr><td>Ideal</td><td>E</td><td>7367030.0</td></tr><tr><td>Good</td><td>E</td><td>2824841.0</td></tr><tr><td>Fair</td><td>H</td><td>1404261.0</td></tr><tr><td>Ideal</td><td>H</td><td>1.0134591E7</td></tr><tr><td>Fair</td><td>I</td><td>745872.0</td></tr><tr><td>Fair</td><td>E</td><td>767053.0</td></tr><tr><td>Premium</td><td>H</td><td>1.0012782E7</td></tr><tr><td>Very Good</td><td>G</td><td>7677977.0</td></tr></tbody></table></div>"
      ]
     },
     "metadata": {
      "application/vnd.databricks.v1+output": {
       "addedWidgets": {},
       "aggData": [],
       "aggError": "",
       "aggOverflow": false,
       "aggSchema": [],
       "aggSeriesLimitReached": false,
       "aggType": "",
       "arguments": {},
       "columnCustomDisplayInfos": {},
       "data": [
        [
         "Very Good",
         "D",
         4481657.0
        ],
        [
         "Premium",
         "E",
         6204025.0
        ],
        [
         "Ideal",
         "D",
         5535809.0
        ],
        [
         "Good",
         "F",
         2742611.0
        ],
        [
         "Premium",
         "D",
         4704693.0
        ],
        [
         "Ideal",
         "J",
         4198819.0
        ],
        [
         "Ideal",
         "I",
         8270822.0
        ],
        [
         "Very Good",
         "I",
         5858939.0
        ],
        [
         "Good",
         "D",
         1976807.0
        ],
        [
         "Fair",
         "D",
         628203.0
        ],
        [
         "Good",
         "G",
         3181346.0
        ],
        [
         "Premium",
         "J",
         4570635.0
        ],
        [
         "Good",
         "H",
         2727618.0
        ],
        [
         "Fair",
         "F",
         1117958.0
        ],
        [
         "Ideal",
         "G",
         1.4152808E7
        ],
        [
         "Very Good",
         "H",
         7225470.0
        ],
        [
         "Very Good",
         "E",
         6331847.0
        ],
        [
         "Good",
         "I",
         2470026.0
        ],
        [
         "Premium",
         "F",
         7881530.0
        ],
        [
         "Fair",
         "J",
         582138.0
        ],
        [
         "Premium",
         "I",
         7355490.0
        ],
        [
         "Very Good",
         "J",
         3219312.0
        ],
        [
         "Fair",
         "G",
         1223757.0
        ],
        [
         "Good",
         "J",
         1348218.0
        ],
        [
         "Premium",
         "G",
         1.0192377E7
        ],
        [
         "Very Good",
         "F",
         6888469.0
        ],
        [
         "Ideal",
         "F",
         1.0244998E7
        ],
        [
         "Ideal",
         "E",
         7367030.0
        ],
        [
         "Good",
         "E",
         2824841.0
        ],
        [
         "Fair",
         "H",
         1404261.0
        ],
        [
         "Ideal",
         "H",
         1.0134591E7
        ],
        [
         "Fair",
         "I",
         745872.0
        ],
        [
         "Fair",
         "E",
         767053.0
        ],
        [
         "Premium",
         "H",
         1.0012782E7
        ],
        [
         "Very Good",
         "G",
         7677977.0
        ]
       ],
       "datasetInfos": [],
       "dbfsResultPath": null,
       "isJsonSchema": true,
       "metadata": {},
       "overflow": false,
       "plotOptions": {
        "customPlotOptions": {},
        "displayType": "table",
        "pivotAggregation": null,
        "pivotColumns": null,
        "xColumns": null,
        "yColumns": null
       },
       "removedWidgets": [],
       "schema": [
        {
         "metadata": "{}",
         "name": "cut",
         "type": "\"string\""
        },
        {
         "metadata": "{}",
         "name": "color",
         "type": "\"string\""
        },
        {
         "metadata": "{}",
         "name": "total",
         "type": "\"double\""
        }
       ],
       "type": "table"
      }
     },
     "output_type": "display_data"
    }
   ],
   "source": [
    "gold = (\n",
    "    silver\n",
    "    .groupBy('cut', 'color')\n",
    "    .agg( sum('price').alias('total'))\n",
    ")\n",
    "\n",
    "gold.display()"
   ]
  },
  {
   "cell_type": "code",
   "execution_count": 0,
   "metadata": {
    "application/vnd.databricks.v1+cell": {
     "cellMetadata": {},
     "inputWidgets": {},
     "nuid": "6cc99f95-6bac-4959-a8e8-6a7b6956367d",
     "showTitle": false,
     "title": ""
    }
   },
   "outputs": [],
   "source": []
  }
 ],
 "metadata": {
  "application/vnd.databricks.v1+notebook": {
   "dashboards": [],
   "language": "python",
   "notebookMetadata": {
    "mostRecentlyExecutedCommandWithImplicitDF": {
     "commandId": -1,
     "dataframes": [
      "_sqldf"
     ]
    },
    "pythonIndentUnit": 4
   },
   "notebookName": "Large Data",
   "widgets": {}
  }
 },
 "nbformat": 4,
 "nbformat_minor": 0
}
