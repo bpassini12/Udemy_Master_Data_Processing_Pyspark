{
 "cells": [
  {
   "cell_type": "markdown",
   "metadata": {
    "application/vnd.databricks.v1+cell": {
     "cellMetadata": {},
     "inputWidgets": {},
     "nuid": "9d797a43-4118-424d-8462-87181da358a3",
     "showTitle": false,
     "title": ""
    }
   },
   "source": [
    "### Joining Tables\n",
    "When working with Big Data, the data can be distributed among many sources or different tables. \n",
    "\n",
    "Therefore, when we are working with a given dataset A, but we need some data from dataset B to come up with an insight, joining tables comes in handy.\n",
    "\n",
    "Let's work with some examples."
   ]
  },
  {
   "cell_type": "code",
   "execution_count": 0,
   "metadata": {
    "application/vnd.databricks.v1+cell": {
     "cellMetadata": {
      "byteLimit": 2048000,
      "rowLimit": 10000
     },
     "inputWidgets": {},
     "nuid": "1ff281b2-235c-408d-8692-9bab4f0e8c86",
     "showTitle": true,
     "title": "Imports"
    }
   },
   "outputs": [],
   "source": [
    "from pyspark.sql.functions import col, sum, min, max, countDistinct, mean\n",
    "from pyspark.sql import functions as F\n",
    "from pyspark.sql.window import Window"
   ]
  },
  {
   "cell_type": "code",
   "execution_count": 0,
   "metadata": {
    "application/vnd.databricks.v1+cell": {
     "cellMetadata": {
      "byteLimit": 2048000,
      "rowLimit": 10000
     },
     "inputWidgets": {},
     "nuid": "7b275385-288c-41f2-95b9-fb447c2f0e02",
     "showTitle": true,
     "title": "Create Dataframes"
    }
   },
   "outputs": [],
   "source": [
    "from pyspark.sql.types import StructType, StructField, StringType, DoubleType, IntegerType\n",
    "\n",
    "# Creating a dataframe for Sales Data\n",
    "my_data1 = [(\"2023-01-01\",\"PPDQ1\",\"A\",3626.3),\n",
    "        (\"2023-01-02\",\"PPDQ2\",\"A\",389.5),\n",
    "        (\"2023-01-02\",\"PPDQ1\",\"B\",2829.78),\n",
    "        (\"2023-01-03\",\"PPDQ6\",\"E\",367.45),\n",
    "        (\"2023-01-04\",\"PPDQ3\",\"D\",7266.45),\n",
    "        (\"2023-01-04\",\"PPDQ3\",\"D\",703.7),\n",
    "        (\"2023-01-05\",\"PPDQ3\",\"F\",4226.74),\n",
    "        (\"2023-01-05\",\"PPDQ3\",\"F\",4226.74),\n",
    "        (\"2023-01-05\",\"PPDQ3\",\"E\",426.74)\n",
    "  ]\n",
    "\n",
    "schema = StructType([ \\\n",
    "    StructField(\"date\",StringType(),True), \\\n",
    "    StructField(\"product\",StringType(),True), \\\n",
    "    StructField(\"store_id\",StringType(),True), \\\n",
    "    StructField(\"total\", DoubleType(), True)  ])\n",
    " \n",
    "sales = spark.createDataFrame(data=my_data1,schema=schema)\n",
    "\n",
    "# Creating a dataframe for Stores Data\n",
    "my_data2 = [(\"A\",\"NY\",\"USA\",2020),\n",
    "        (\"B\",\"Rome\",\"Italy\",2023),\n",
    "        (\"C\",\"Boston\",\"USA\",2021),\n",
    "        (\"D\",\"NY\",\"USA\",2022),        \n",
    "        (\"F\",\"Boston\",\"USA\",2022),\n",
    "  ]\n",
    "\n",
    "schema = StructType([ \\\n",
    "    StructField(\"store_id\",StringType(),True), \\\n",
    "    StructField(\"city\",StringType(),True), \\\n",
    "    StructField(\"country\",StringType(),True), \\\n",
    "    StructField(\"opened_dt\", IntegerType(), True)  ])\n",
    "\n",
    "stores = spark.createDataFrame(data=my_data2,schema=schema)"
   ]
  },
  {
   "cell_type": "code",
   "execution_count": 0,
   "metadata": {
    "application/vnd.databricks.v1+cell": {
     "cellMetadata": {
      "byteLimit": 2048000,
      "rowLimit": 10000
     },
     "inputWidgets": {},
     "nuid": "cb52b1aa-014a-4304-a9d5-58e6bfe1b19f",
     "showTitle": false,
     "title": ""
    }
   },
   "outputs": [
    {
     "output_type": "display_data",
     "data": {
      "text/html": [
       "<style scoped>\n",
       "  .table-result-container {\n",
       "    max-height: 300px;\n",
       "    overflow: auto;\n",
       "  }\n",
       "  table, th, td {\n",
       "    border: 1px solid black;\n",
       "    border-collapse: collapse;\n",
       "  }\n",
       "  th, td {\n",
       "    padding: 5px;\n",
       "  }\n",
       "  th {\n",
       "    text-align: left;\n",
       "  }\n",
       "</style><div class='table-result-container'><table class='table-result'><thead style='background-color: white'><tr><th>date</th><th>product</th><th>store_id</th><th>total</th></tr></thead><tbody><tr><td>2023-01-01</td><td>PPDQ1</td><td>A</td><td>3626.3</td></tr><tr><td>2023-01-02</td><td>PPDQ2</td><td>A</td><td>389.5</td></tr><tr><td>2023-01-02</td><td>PPDQ1</td><td>B</td><td>2829.78</td></tr><tr><td>2023-01-03</td><td>PPDQ6</td><td>E</td><td>367.45</td></tr><tr><td>2023-01-04</td><td>PPDQ3</td><td>D</td><td>7266.45</td></tr><tr><td>2023-01-04</td><td>PPDQ3</td><td>D</td><td>703.7</td></tr><tr><td>2023-01-05</td><td>PPDQ3</td><td>F</td><td>4226.74</td></tr><tr><td>2023-01-05</td><td>PPDQ3</td><td>F</td><td>4226.74</td></tr><tr><td>2023-01-05</td><td>PPDQ3</td><td>E</td><td>426.74</td></tr></tbody></table></div>"
      ]
     },
     "metadata": {
      "application/vnd.databricks.v1+output": {
       "addedWidgets": {},
       "aggData": [],
       "aggError": "",
       "aggOverflow": false,
       "aggSchema": [],
       "aggSeriesLimitReached": false,
       "aggType": "",
       "arguments": {},
       "columnCustomDisplayInfos": {},
       "data": [
        [
         "2023-01-01",
         "PPDQ1",
         "A",
         3626.3
        ],
        [
         "2023-01-02",
         "PPDQ2",
         "A",
         389.5
        ],
        [
         "2023-01-02",
         "PPDQ1",
         "B",
         2829.78
        ],
        [
         "2023-01-03",
         "PPDQ6",
         "E",
         367.45
        ],
        [
         "2023-01-04",
         "PPDQ3",
         "D",
         7266.45
        ],
        [
         "2023-01-04",
         "PPDQ3",
         "D",
         703.7
        ],
        [
         "2023-01-05",
         "PPDQ3",
         "F",
         4226.74
        ],
        [
         "2023-01-05",
         "PPDQ3",
         "F",
         4226.74
        ],
        [
         "2023-01-05",
         "PPDQ3",
         "E",
         426.74
        ]
       ],
       "datasetInfos": [],
       "dbfsResultPath": null,
       "isJsonSchema": true,
       "metadata": {},
       "overflow": false,
       "plotOptions": {
        "customPlotOptions": {},
        "displayType": "table",
        "pivotAggregation": null,
        "pivotColumns": null,
        "xColumns": null,
        "yColumns": null
       },
       "removedWidgets": [],
       "schema": [
        {
         "metadata": "{}",
         "name": "date",
         "type": "\"string\""
        },
        {
         "metadata": "{}",
         "name": "product",
         "type": "\"string\""
        },
        {
         "metadata": "{}",
         "name": "store_id",
         "type": "\"string\""
        },
        {
         "metadata": "{}",
         "name": "total",
         "type": "\"double\""
        }
       ],
       "type": "table"
      }
     },
     "output_type": "display_data"
    },
    {
     "output_type": "display_data",
     "data": {
      "text/html": [
       "<style scoped>\n",
       "  .table-result-container {\n",
       "    max-height: 300px;\n",
       "    overflow: auto;\n",
       "  }\n",
       "  table, th, td {\n",
       "    border: 1px solid black;\n",
       "    border-collapse: collapse;\n",
       "  }\n",
       "  th, td {\n",
       "    padding: 5px;\n",
       "  }\n",
       "  th {\n",
       "    text-align: left;\n",
       "  }\n",
       "</style><div class='table-result-container'><table class='table-result'><thead style='background-color: white'><tr><th>store_id</th><th>city</th><th>country</th><th>opened_dt</th></tr></thead><tbody><tr><td>A</td><td>NY</td><td>USA</td><td>2020</td></tr><tr><td>B</td><td>Rome</td><td>Italy</td><td>2023</td></tr><tr><td>C</td><td>Boston</td><td>USA</td><td>2021</td></tr><tr><td>D</td><td>NY</td><td>USA</td><td>2022</td></tr><tr><td>F</td><td>Boston</td><td>USA</td><td>2022</td></tr></tbody></table></div>"
      ]
     },
     "metadata": {
      "application/vnd.databricks.v1+output": {
       "addedWidgets": {},
       "aggData": [],
       "aggError": "",
       "aggOverflow": false,
       "aggSchema": [],
       "aggSeriesLimitReached": false,
       "aggType": "",
       "arguments": {},
       "columnCustomDisplayInfos": {},
       "data": [
        [
         "A",
         "NY",
         "USA",
         2020
        ],
        [
         "B",
         "Rome",
         "Italy",
         2023
        ],
        [
         "C",
         "Boston",
         "USA",
         2021
        ],
        [
         "D",
         "NY",
         "USA",
         2022
        ],
        [
         "F",
         "Boston",
         "USA",
         2022
        ]
       ],
       "datasetInfos": [],
       "dbfsResultPath": null,
       "isJsonSchema": true,
       "metadata": {},
       "overflow": false,
       "plotOptions": {
        "customPlotOptions": {},
        "displayType": "table",
        "pivotAggregation": null,
        "pivotColumns": null,
        "xColumns": null,
        "yColumns": null
       },
       "removedWidgets": [],
       "schema": [
        {
         "metadata": "{}",
         "name": "store_id",
         "type": "\"string\""
        },
        {
         "metadata": "{}",
         "name": "city",
         "type": "\"string\""
        },
        {
         "metadata": "{}",
         "name": "country",
         "type": "\"string\""
        },
        {
         "metadata": "{}",
         "name": "opened_dt",
         "type": "\"integer\""
        }
       ],
       "type": "table"
      }
     },
     "output_type": "display_data"
    }
   ],
   "source": [
    "display(sales)\n",
    "display(stores)"
   ]
  },
  {
   "cell_type": "code",
   "execution_count": 0,
   "metadata": {
    "application/vnd.databricks.v1+cell": {
     "cellMetadata": {
      "byteLimit": 2048000,
      "rowLimit": 10000
     },
     "inputWidgets": {},
     "nuid": "988b05a5-e80b-4a2f-8a63-4737e8a172a2",
     "showTitle": true,
     "title": "LEFT JOIN"
    }
   },
   "outputs": [
    {
     "output_type": "display_data",
     "data": {
      "text/html": [
       "<style scoped>\n",
       "  .table-result-container {\n",
       "    max-height: 300px;\n",
       "    overflow: auto;\n",
       "  }\n",
       "  table, th, td {\n",
       "    border: 1px solid black;\n",
       "    border-collapse: collapse;\n",
       "  }\n",
       "  th, td {\n",
       "    padding: 5px;\n",
       "  }\n",
       "  th {\n",
       "    text-align: left;\n",
       "  }\n",
       "</style><div class='table-result-container'><table class='table-result'><thead style='background-color: white'><tr><th>store_id</th><th>date</th><th>product</th><th>total</th><th>city</th><th>country</th><th>opened_dt</th></tr></thead><tbody><tr><td>A</td><td>2023-01-01</td><td>PPDQ1</td><td>3626.3</td><td>NY</td><td>USA</td><td>2020</td></tr><tr><td>A</td><td>2023-01-02</td><td>PPDQ2</td><td>389.5</td><td>NY</td><td>USA</td><td>2020</td></tr><tr><td>B</td><td>2023-01-02</td><td>PPDQ1</td><td>2829.78</td><td>Rome</td><td>Italy</td><td>2023</td></tr><tr><td>E</td><td>2023-01-03</td><td>PPDQ6</td><td>367.45</td><td>null</td><td>null</td><td>null</td></tr><tr><td>D</td><td>2023-01-04</td><td>PPDQ3</td><td>7266.45</td><td>NY</td><td>USA</td><td>2022</td></tr><tr><td>D</td><td>2023-01-04</td><td>PPDQ3</td><td>703.7</td><td>NY</td><td>USA</td><td>2022</td></tr><tr><td>F</td><td>2023-01-05</td><td>PPDQ3</td><td>4226.74</td><td>Boston</td><td>USA</td><td>2022</td></tr><tr><td>F</td><td>2023-01-05</td><td>PPDQ3</td><td>4226.74</td><td>Boston</td><td>USA</td><td>2022</td></tr><tr><td>E</td><td>2023-01-05</td><td>PPDQ3</td><td>426.74</td><td>null</td><td>null</td><td>null</td></tr></tbody></table></div>"
      ]
     },
     "metadata": {
      "application/vnd.databricks.v1+output": {
       "addedWidgets": {},
       "aggData": [],
       "aggError": "",
       "aggOverflow": false,
       "aggSchema": [],
       "aggSeriesLimitReached": false,
       "aggType": "",
       "arguments": {},
       "columnCustomDisplayInfos": {},
       "data": [
        [
         "A",
         "2023-01-01",
         "PPDQ1",
         3626.3,
         "NY",
         "USA",
         2020
        ],
        [
         "A",
         "2023-01-02",
         "PPDQ2",
         389.5,
         "NY",
         "USA",
         2020
        ],
        [
         "B",
         "2023-01-02",
         "PPDQ1",
         2829.78,
         "Rome",
         "Italy",
         2023
        ],
        [
         "E",
         "2023-01-03",
         "PPDQ6",
         367.45,
         null,
         null,
         null
        ],
        [
         "D",
         "2023-01-04",
         "PPDQ3",
         7266.45,
         "NY",
         "USA",
         2022
        ],
        [
         "D",
         "2023-01-04",
         "PPDQ3",
         703.7,
         "NY",
         "USA",
         2022
        ],
        [
         "F",
         "2023-01-05",
         "PPDQ3",
         4226.74,
         "Boston",
         "USA",
         2022
        ],
        [
         "F",
         "2023-01-05",
         "PPDQ3",
         4226.74,
         "Boston",
         "USA",
         2022
        ],
        [
         "E",
         "2023-01-05",
         "PPDQ3",
         426.74,
         null,
         null,
         null
        ]
       ],
       "datasetInfos": [],
       "dbfsResultPath": null,
       "isJsonSchema": true,
       "metadata": {},
       "overflow": false,
       "plotOptions": {
        "customPlotOptions": {},
        "displayType": "table",
        "pivotAggregation": null,
        "pivotColumns": null,
        "xColumns": null,
        "yColumns": null
       },
       "removedWidgets": [],
       "schema": [
        {
         "metadata": "{}",
         "name": "store_id",
         "type": "\"string\""
        },
        {
         "metadata": "{}",
         "name": "date",
         "type": "\"string\""
        },
        {
         "metadata": "{}",
         "name": "product",
         "type": "\"string\""
        },
        {
         "metadata": "{}",
         "name": "total",
         "type": "\"double\""
        },
        {
         "metadata": "{}",
         "name": "city",
         "type": "\"string\""
        },
        {
         "metadata": "{}",
         "name": "country",
         "type": "\"string\""
        },
        {
         "metadata": "{}",
         "name": "opened_dt",
         "type": "\"integer\""
        }
       ],
       "type": "table"
      }
     },
     "output_type": "display_data"
    }
   ],
   "source": [
    "display(\n",
    "    sales\n",
    "    .join(stores, on='store_id', how= 'left')\n",
    ")"
   ]
  },
  {
   "cell_type": "code",
   "execution_count": 0,
   "metadata": {
    "application/vnd.databricks.v1+cell": {
     "cellMetadata": {
      "byteLimit": 2048000,
      "rowLimit": 10000
     },
     "inputWidgets": {},
     "nuid": "4e765ab9-5d8f-494f-b7fc-feff52d56565",
     "showTitle": true,
     "title": "LEFT-ANTI JOIN"
    }
   },
   "outputs": [
    {
     "output_type": "display_data",
     "data": {
      "text/html": [
       "<style scoped>\n",
       "  .table-result-container {\n",
       "    max-height: 300px;\n",
       "    overflow: auto;\n",
       "  }\n",
       "  table, th, td {\n",
       "    border: 1px solid black;\n",
       "    border-collapse: collapse;\n",
       "  }\n",
       "  th, td {\n",
       "    padding: 5px;\n",
       "  }\n",
       "  th {\n",
       "    text-align: left;\n",
       "  }\n",
       "</style><div class='table-result-container'><table class='table-result'><thead style='background-color: white'><tr><th>store_id</th><th>date</th><th>product</th><th>total</th></tr></thead><tbody><tr><td>E</td><td>2023-01-03</td><td>PPDQ6</td><td>367.45</td></tr><tr><td>E</td><td>2023-01-05</td><td>PPDQ3</td><td>426.74</td></tr></tbody></table></div>"
      ]
     },
     "metadata": {
      "application/vnd.databricks.v1+output": {
       "addedWidgets": {},
       "aggData": [],
       "aggError": "",
       "aggOverflow": false,
       "aggSchema": [],
       "aggSeriesLimitReached": false,
       "aggType": "",
       "arguments": {},
       "columnCustomDisplayInfos": {},
       "data": [
        [
         "E",
         "2023-01-03",
         "PPDQ6",
         367.45
        ],
        [
         "E",
         "2023-01-05",
         "PPDQ3",
         426.74
        ]
       ],
       "datasetInfos": [],
       "dbfsResultPath": null,
       "isJsonSchema": true,
       "metadata": {},
       "overflow": false,
       "plotOptions": {
        "customPlotOptions": {},
        "displayType": "table",
        "pivotAggregation": null,
        "pivotColumns": null,
        "xColumns": null,
        "yColumns": null
       },
       "removedWidgets": [],
       "schema": [
        {
         "metadata": "{}",
         "name": "store_id",
         "type": "\"string\""
        },
        {
         "metadata": "{}",
         "name": "date",
         "type": "\"string\""
        },
        {
         "metadata": "{}",
         "name": "product",
         "type": "\"string\""
        },
        {
         "metadata": "{}",
         "name": "total",
         "type": "\"double\""
        }
       ],
       "type": "table"
      }
     },
     "output_type": "display_data"
    }
   ],
   "source": [
    "display(\n",
    "    sales\n",
    "    .join(stores, on='store_id', how= 'left_anti')\n",
    ")"
   ]
  },
  {
   "cell_type": "code",
   "execution_count": 0,
   "metadata": {
    "application/vnd.databricks.v1+cell": {
     "cellMetadata": {
      "byteLimit": 2048000,
      "rowLimit": 10000
     },
     "inputWidgets": {},
     "nuid": "8905629a-4729-4574-87e6-a8e3dee7e3e5",
     "showTitle": true,
     "title": "RIGHT JOIN"
    }
   },
   "outputs": [
    {
     "output_type": "display_data",
     "data": {
      "text/html": [
       "<style scoped>\n",
       "  .table-result-container {\n",
       "    max-height: 300px;\n",
       "    overflow: auto;\n",
       "  }\n",
       "  table, th, td {\n",
       "    border: 1px solid black;\n",
       "    border-collapse: collapse;\n",
       "  }\n",
       "  th, td {\n",
       "    padding: 5px;\n",
       "  }\n",
       "  th {\n",
       "    text-align: left;\n",
       "  }\n",
       "</style><div class='table-result-container'><table class='table-result'><thead style='background-color: white'><tr><th>store_id</th><th>date</th><th>product</th><th>total</th><th>city</th><th>country</th><th>opened_dt</th></tr></thead><tbody><tr><td>A</td><td>2023-01-02</td><td>PPDQ2</td><td>389.5</td><td>NY</td><td>USA</td><td>2020</td></tr><tr><td>A</td><td>2023-01-01</td><td>PPDQ1</td><td>3626.3</td><td>NY</td><td>USA</td><td>2020</td></tr><tr><td>B</td><td>2023-01-02</td><td>PPDQ1</td><td>2829.78</td><td>Rome</td><td>Italy</td><td>2023</td></tr><tr><td>C</td><td>null</td><td>null</td><td>null</td><td>Boston</td><td>USA</td><td>2021</td></tr><tr><td>D</td><td>2023-01-04</td><td>PPDQ3</td><td>703.7</td><td>NY</td><td>USA</td><td>2022</td></tr><tr><td>D</td><td>2023-01-04</td><td>PPDQ3</td><td>7266.45</td><td>NY</td><td>USA</td><td>2022</td></tr><tr><td>F</td><td>2023-01-05</td><td>PPDQ3</td><td>4226.74</td><td>Boston</td><td>USA</td><td>2022</td></tr><tr><td>F</td><td>2023-01-05</td><td>PPDQ3</td><td>4226.74</td><td>Boston</td><td>USA</td><td>2022</td></tr></tbody></table></div>"
      ]
     },
     "metadata": {
      "application/vnd.databricks.v1+output": {
       "addedWidgets": {},
       "aggData": [],
       "aggError": "",
       "aggOverflow": false,
       "aggSchema": [],
       "aggSeriesLimitReached": false,
       "aggType": "",
       "arguments": {},
       "columnCustomDisplayInfos": {},
       "data": [
        [
         "A",
         "2023-01-02",
         "PPDQ2",
         389.5,
         "NY",
         "USA",
         2020
        ],
        [
         "A",
         "2023-01-01",
         "PPDQ1",
         3626.3,
         "NY",
         "USA",
         2020
        ],
        [
         "B",
         "2023-01-02",
         "PPDQ1",
         2829.78,
         "Rome",
         "Italy",
         2023
        ],
        [
         "C",
         null,
         null,
         null,
         "Boston",
         "USA",
         2021
        ],
        [
         "D",
         "2023-01-04",
         "PPDQ3",
         703.7,
         "NY",
         "USA",
         2022
        ],
        [
         "D",
         "2023-01-04",
         "PPDQ3",
         7266.45,
         "NY",
         "USA",
         2022
        ],
        [
         "F",
         "2023-01-05",
         "PPDQ3",
         4226.74,
         "Boston",
         "USA",
         2022
        ],
        [
         "F",
         "2023-01-05",
         "PPDQ3",
         4226.74,
         "Boston",
         "USA",
         2022
        ]
       ],
       "datasetInfos": [],
       "dbfsResultPath": null,
       "isJsonSchema": true,
       "metadata": {},
       "overflow": false,
       "plotOptions": {
        "customPlotOptions": {},
        "displayType": "table",
        "pivotAggregation": null,
        "pivotColumns": null,
        "xColumns": null,
        "yColumns": null
       },
       "removedWidgets": [],
       "schema": [
        {
         "metadata": "{}",
         "name": "store_id",
         "type": "\"string\""
        },
        {
         "metadata": "{}",
         "name": "date",
         "type": "\"string\""
        },
        {
         "metadata": "{}",
         "name": "product",
         "type": "\"string\""
        },
        {
         "metadata": "{}",
         "name": "total",
         "type": "\"double\""
        },
        {
         "metadata": "{}",
         "name": "city",
         "type": "\"string\""
        },
        {
         "metadata": "{}",
         "name": "country",
         "type": "\"string\""
        },
        {
         "metadata": "{}",
         "name": "opened_dt",
         "type": "\"integer\""
        }
       ],
       "type": "table"
      }
     },
     "output_type": "display_data"
    }
   ],
   "source": [
    "display(\n",
    "    sales\n",
    "    .join(stores, on='store_id', how= 'right')\n",
    ")"
   ]
  },
  {
   "cell_type": "code",
   "execution_count": 0,
   "metadata": {
    "application/vnd.databricks.v1+cell": {
     "cellMetadata": {
      "byteLimit": 2048000,
      "rowLimit": 10000
     },
     "inputWidgets": {},
     "nuid": "a4580432-3ce9-4fd0-8840-8388e0e31511",
     "showTitle": true,
     "title": "INNER JOIN"
    }
   },
   "outputs": [
    {
     "output_type": "display_data",
     "data": {
      "text/html": [
       "<style scoped>\n",
       "  .table-result-container {\n",
       "    max-height: 300px;\n",
       "    overflow: auto;\n",
       "  }\n",
       "  table, th, td {\n",
       "    border: 1px solid black;\n",
       "    border-collapse: collapse;\n",
       "  }\n",
       "  th, td {\n",
       "    padding: 5px;\n",
       "  }\n",
       "  th {\n",
       "    text-align: left;\n",
       "  }\n",
       "</style><div class='table-result-container'><table class='table-result'><thead style='background-color: white'><tr><th>store_id</th><th>date</th><th>product</th><th>total</th><th>city</th><th>country</th><th>opened_dt</th></tr></thead><tbody><tr><td>A</td><td>2023-01-01</td><td>PPDQ1</td><td>3626.3</td><td>NY</td><td>USA</td><td>2020</td></tr><tr><td>A</td><td>2023-01-02</td><td>PPDQ2</td><td>389.5</td><td>NY</td><td>USA</td><td>2020</td></tr><tr><td>B</td><td>2023-01-02</td><td>PPDQ1</td><td>2829.78</td><td>Rome</td><td>Italy</td><td>2023</td></tr><tr><td>D</td><td>2023-01-04</td><td>PPDQ3</td><td>7266.45</td><td>NY</td><td>USA</td><td>2022</td></tr><tr><td>D</td><td>2023-01-04</td><td>PPDQ3</td><td>703.7</td><td>NY</td><td>USA</td><td>2022</td></tr><tr><td>F</td><td>2023-01-05</td><td>PPDQ3</td><td>4226.74</td><td>Boston</td><td>USA</td><td>2022</td></tr><tr><td>F</td><td>2023-01-05</td><td>PPDQ3</td><td>4226.74</td><td>Boston</td><td>USA</td><td>2022</td></tr></tbody></table></div>"
      ]
     },
     "metadata": {
      "application/vnd.databricks.v1+output": {
       "addedWidgets": {},
       "aggData": [],
       "aggError": "",
       "aggOverflow": false,
       "aggSchema": [],
       "aggSeriesLimitReached": false,
       "aggType": "",
       "arguments": {},
       "columnCustomDisplayInfos": {},
       "data": [
        [
         "A",
         "2023-01-01",
         "PPDQ1",
         3626.3,
         "NY",
         "USA",
         2020
        ],
        [
         "A",
         "2023-01-02",
         "PPDQ2",
         389.5,
         "NY",
         "USA",
         2020
        ],
        [
         "B",
         "2023-01-02",
         "PPDQ1",
         2829.78,
         "Rome",
         "Italy",
         2023
        ],
        [
         "D",
         "2023-01-04",
         "PPDQ3",
         7266.45,
         "NY",
         "USA",
         2022
        ],
        [
         "D",
         "2023-01-04",
         "PPDQ3",
         703.7,
         "NY",
         "USA",
         2022
        ],
        [
         "F",
         "2023-01-05",
         "PPDQ3",
         4226.74,
         "Boston",
         "USA",
         2022
        ],
        [
         "F",
         "2023-01-05",
         "PPDQ3",
         4226.74,
         "Boston",
         "USA",
         2022
        ]
       ],
       "datasetInfos": [],
       "dbfsResultPath": null,
       "isJsonSchema": true,
       "metadata": {},
       "overflow": false,
       "plotOptions": {
        "customPlotOptions": {},
        "displayType": "table",
        "pivotAggregation": null,
        "pivotColumns": null,
        "xColumns": null,
        "yColumns": null
       },
       "removedWidgets": [],
       "schema": [
        {
         "metadata": "{}",
         "name": "store_id",
         "type": "\"string\""
        },
        {
         "metadata": "{}",
         "name": "date",
         "type": "\"string\""
        },
        {
         "metadata": "{}",
         "name": "product",
         "type": "\"string\""
        },
        {
         "metadata": "{}",
         "name": "total",
         "type": "\"double\""
        },
        {
         "metadata": "{}",
         "name": "city",
         "type": "\"string\""
        },
        {
         "metadata": "{}",
         "name": "country",
         "type": "\"string\""
        },
        {
         "metadata": "{}",
         "name": "opened_dt",
         "type": "\"integer\""
        }
       ],
       "type": "table"
      }
     },
     "output_type": "display_data"
    }
   ],
   "source": [
    "display(\n",
    "    sales\n",
    "    .join(stores, on='store_id', how= 'inner')\n",
    ")"
   ]
  },
  {
   "cell_type": "code",
   "execution_count": 0,
   "metadata": {
    "application/vnd.databricks.v1+cell": {
     "cellMetadata": {
      "byteLimit": 2048000,
      "rowLimit": 10000
     },
     "inputWidgets": {},
     "nuid": "5461d09a-8f09-4bd2-a69b-df3029c055d2",
     "showTitle": true,
     "title": "FULL OUTER JOIN"
    }
   },
   "outputs": [
    {
     "output_type": "display_data",
     "data": {
      "text/html": [
       "<style scoped>\n",
       "  .table-result-container {\n",
       "    max-height: 300px;\n",
       "    overflow: auto;\n",
       "  }\n",
       "  table, th, td {\n",
       "    border: 1px solid black;\n",
       "    border-collapse: collapse;\n",
       "  }\n",
       "  th, td {\n",
       "    padding: 5px;\n",
       "  }\n",
       "  th {\n",
       "    text-align: left;\n",
       "  }\n",
       "</style><div class='table-result-container'><table class='table-result'><thead style='background-color: white'><tr><th>store_id</th><th>date</th><th>product</th><th>total</th><th>city</th><th>country</th><th>opened_dt</th></tr></thead><tbody><tr><td>A</td><td>2023-01-01</td><td>PPDQ1</td><td>3626.3</td><td>NY</td><td>USA</td><td>2020</td></tr><tr><td>A</td><td>2023-01-02</td><td>PPDQ2</td><td>389.5</td><td>NY</td><td>USA</td><td>2020</td></tr><tr><td>B</td><td>2023-01-02</td><td>PPDQ1</td><td>2829.78</td><td>Rome</td><td>Italy</td><td>2023</td></tr><tr><td>C</td><td>null</td><td>null</td><td>null</td><td>Boston</td><td>USA</td><td>2021</td></tr><tr><td>D</td><td>2023-01-04</td><td>PPDQ3</td><td>7266.45</td><td>NY</td><td>USA</td><td>2022</td></tr><tr><td>D</td><td>2023-01-04</td><td>PPDQ3</td><td>703.7</td><td>NY</td><td>USA</td><td>2022</td></tr><tr><td>E</td><td>2023-01-03</td><td>PPDQ6</td><td>367.45</td><td>null</td><td>null</td><td>null</td></tr><tr><td>E</td><td>2023-01-05</td><td>PPDQ3</td><td>426.74</td><td>null</td><td>null</td><td>null</td></tr><tr><td>F</td><td>2023-01-05</td><td>PPDQ3</td><td>4226.74</td><td>Boston</td><td>USA</td><td>2022</td></tr><tr><td>F</td><td>2023-01-05</td><td>PPDQ3</td><td>4226.74</td><td>Boston</td><td>USA</td><td>2022</td></tr></tbody></table></div>"
      ]
     },
     "metadata": {
      "application/vnd.databricks.v1+output": {
       "addedWidgets": {},
       "aggData": [],
       "aggError": "",
       "aggOverflow": false,
       "aggSchema": [],
       "aggSeriesLimitReached": false,
       "aggType": "",
       "arguments": {},
       "columnCustomDisplayInfos": {},
       "data": [
        [
         "A",
         "2023-01-01",
         "PPDQ1",
         3626.3,
         "NY",
         "USA",
         2020
        ],
        [
         "A",
         "2023-01-02",
         "PPDQ2",
         389.5,
         "NY",
         "USA",
         2020
        ],
        [
         "B",
         "2023-01-02",
         "PPDQ1",
         2829.78,
         "Rome",
         "Italy",
         2023
        ],
        [
         "C",
         null,
         null,
         null,
         "Boston",
         "USA",
         2021
        ],
        [
         "D",
         "2023-01-04",
         "PPDQ3",
         7266.45,
         "NY",
         "USA",
         2022
        ],
        [
         "D",
         "2023-01-04",
         "PPDQ3",
         703.7,
         "NY",
         "USA",
         2022
        ],
        [
         "E",
         "2023-01-03",
         "PPDQ6",
         367.45,
         null,
         null,
         null
        ],
        [
         "E",
         "2023-01-05",
         "PPDQ3",
         426.74,
         null,
         null,
         null
        ],
        [
         "F",
         "2023-01-05",
         "PPDQ3",
         4226.74,
         "Boston",
         "USA",
         2022
        ],
        [
         "F",
         "2023-01-05",
         "PPDQ3",
         4226.74,
         "Boston",
         "USA",
         2022
        ]
       ],
       "datasetInfos": [],
       "dbfsResultPath": null,
       "isJsonSchema": true,
       "metadata": {},
       "overflow": false,
       "plotOptions": {
        "customPlotOptions": {},
        "displayType": "table",
        "pivotAggregation": null,
        "pivotColumns": null,
        "xColumns": null,
        "yColumns": null
       },
       "removedWidgets": [],
       "schema": [
        {
         "metadata": "{}",
         "name": "store_id",
         "type": "\"string\""
        },
        {
         "metadata": "{}",
         "name": "date",
         "type": "\"string\""
        },
        {
         "metadata": "{}",
         "name": "product",
         "type": "\"string\""
        },
        {
         "metadata": "{}",
         "name": "total",
         "type": "\"double\""
        },
        {
         "metadata": "{}",
         "name": "city",
         "type": "\"string\""
        },
        {
         "metadata": "{}",
         "name": "country",
         "type": "\"string\""
        },
        {
         "metadata": "{}",
         "name": "opened_dt",
         "type": "\"integer\""
        }
       ],
       "type": "table"
      }
     },
     "output_type": "display_data"
    }
   ],
   "source": [
    "display(\n",
    "    sales\n",
    "    .join(stores, on='store_id', how= 'full_outer')\n",
    ")"
   ]
  },
  {
   "cell_type": "code",
   "execution_count": 0,
   "metadata": {
    "application/vnd.databricks.v1+cell": {
     "cellMetadata": {
      "byteLimit": 2048000,
      "rowLimit": 10000
     },
     "inputWidgets": {},
     "nuid": "c78cf949-a0f7-42a9-8e04-91c2bab79562",
     "showTitle": true,
     "title": "Another Syntax"
    }
   },
   "outputs": [
    {
     "output_type": "display_data",
     "data": {
      "text/html": [
       "<style scoped>\n",
       "  .table-result-container {\n",
       "    max-height: 300px;\n",
       "    overflow: auto;\n",
       "  }\n",
       "  table, th, td {\n",
       "    border: 1px solid black;\n",
       "    border-collapse: collapse;\n",
       "  }\n",
       "  th, td {\n",
       "    padding: 5px;\n",
       "  }\n",
       "  th {\n",
       "    text-align: left;\n",
       "  }\n",
       "</style><div class='table-result-container'><table class='table-result'><thead style='background-color: white'><tr><th>date</th><th>product</th><th>store_id</th><th>total</th><th>store_id</th><th>city</th><th>country</th><th>opened_dt</th></tr></thead><tbody><tr><td>2023-01-01</td><td>PPDQ1</td><td>A</td><td>3626.3</td><td>A</td><td>NY</td><td>USA</td><td>2020</td></tr><tr><td>2023-01-02</td><td>PPDQ2</td><td>A</td><td>389.5</td><td>A</td><td>NY</td><td>USA</td><td>2020</td></tr><tr><td>2023-01-02</td><td>PPDQ1</td><td>B</td><td>2829.78</td><td>B</td><td>Rome</td><td>Italy</td><td>2023</td></tr><tr><td>2023-01-04</td><td>PPDQ3</td><td>D</td><td>7266.45</td><td>D</td><td>NY</td><td>USA</td><td>2022</td></tr><tr><td>2023-01-04</td><td>PPDQ3</td><td>D</td><td>703.7</td><td>D</td><td>NY</td><td>USA</td><td>2022</td></tr><tr><td>2023-01-05</td><td>PPDQ3</td><td>F</td><td>4226.74</td><td>F</td><td>Boston</td><td>USA</td><td>2022</td></tr><tr><td>2023-01-05</td><td>PPDQ3</td><td>F</td><td>4226.74</td><td>F</td><td>Boston</td><td>USA</td><td>2022</td></tr></tbody></table></div>"
      ]
     },
     "metadata": {
      "application/vnd.databricks.v1+output": {
       "addedWidgets": {},
       "aggData": [],
       "aggError": "",
       "aggOverflow": false,
       "aggSchema": [],
       "aggSeriesLimitReached": false,
       "aggType": "",
       "arguments": {},
       "columnCustomDisplayInfos": {},
       "data": [
        [
         "2023-01-01",
         "PPDQ1",
         "A",
         3626.3,
         "A",
         "NY",
         "USA",
         2020
        ],
        [
         "2023-01-02",
         "PPDQ2",
         "A",
         389.5,
         "A",
         "NY",
         "USA",
         2020
        ],
        [
         "2023-01-02",
         "PPDQ1",
         "B",
         2829.78,
         "B",
         "Rome",
         "Italy",
         2023
        ],
        [
         "2023-01-04",
         "PPDQ3",
         "D",
         7266.45,
         "D",
         "NY",
         "USA",
         2022
        ],
        [
         "2023-01-04",
         "PPDQ3",
         "D",
         703.7,
         "D",
         "NY",
         "USA",
         2022
        ],
        [
         "2023-01-05",
         "PPDQ3",
         "F",
         4226.74,
         "F",
         "Boston",
         "USA",
         2022
        ],
        [
         "2023-01-05",
         "PPDQ3",
         "F",
         4226.74,
         "F",
         "Boston",
         "USA",
         2022
        ]
       ],
       "datasetInfos": [],
       "dbfsResultPath": null,
       "isJsonSchema": true,
       "metadata": {},
       "overflow": false,
       "plotOptions": {
        "customPlotOptions": {},
        "displayType": "table",
        "pivotAggregation": null,
        "pivotColumns": null,
        "xColumns": null,
        "yColumns": null
       },
       "removedWidgets": [],
       "schema": [
        {
         "metadata": "{}",
         "name": "date",
         "type": "\"string\""
        },
        {
         "metadata": "{}",
         "name": "product",
         "type": "\"string\""
        },
        {
         "metadata": "{}",
         "name": "store_id",
         "type": "\"string\""
        },
        {
         "metadata": "{}",
         "name": "total",
         "type": "\"double\""
        },
        {
         "metadata": "{}",
         "name": "store_id",
         "type": "\"string\""
        },
        {
         "metadata": "{}",
         "name": "city",
         "type": "\"string\""
        },
        {
         "metadata": "{}",
         "name": "country",
         "type": "\"string\""
        },
        {
         "metadata": "{}",
         "name": "opened_dt",
         "type": "\"integer\""
        }
       ],
       "type": "table"
      }
     },
     "output_type": "display_data"
    }
   ],
   "source": [
    "display(\n",
    "    sales\n",
    "    .join(stores, sales.store_id == stores.store_id, 'inner')\n",
    ")"
   ]
  },
  {
   "cell_type": "code",
   "execution_count": 0,
   "metadata": {
    "application/vnd.databricks.v1+cell": {
     "cellMetadata": {
      "byteLimit": 2048000,
      "rowLimit": 10000
     },
     "inputWidgets": {},
     "nuid": "cd64393e-eb31-4eb6-b168-8819d652e06c",
     "showTitle": true,
     "title": "Example"
    }
   },
   "outputs": [
    {
     "output_type": "display_data",
     "data": {
      "text/html": [
       "<style scoped>\n",
       "  .table-result-container {\n",
       "    max-height: 300px;\n",
       "    overflow: auto;\n",
       "  }\n",
       "  table, th, td {\n",
       "    border: 1px solid black;\n",
       "    border-collapse: collapse;\n",
       "  }\n",
       "  th, td {\n",
       "    padding: 5px;\n",
       "  }\n",
       "  th {\n",
       "    text-align: left;\n",
       "  }\n",
       "</style><div class='table-result-container'><table class='table-result'><thead style='background-color: white'><tr><th>city</th><th>total_sales</th><th>pct</th></tr></thead><tbody><tr><td>NY</td><td>11985.95</td><td>0.5</td></tr><tr><td>Rome</td><td>2829.78</td><td>0.12</td></tr><tr><td>null</td><td>794.19</td><td>0.03</td></tr><tr><td>Boston</td><td>8453.48</td><td>0.35</td></tr></tbody></table></div>"
      ]
     },
     "metadata": {
      "application/vnd.databricks.v1+output": {
       "addedWidgets": {},
       "aggData": [],
       "aggError": "",
       "aggOverflow": false,
       "aggSchema": [],
       "aggSeriesLimitReached": false,
       "aggType": "",
       "arguments": {},
       "columnCustomDisplayInfos": {},
       "data": [
        [
         "NY",
         11985.95,
         0.5
        ],
        [
         "Rome",
         2829.78,
         0.12
        ],
        [
         null,
         794.19,
         0.03
        ],
        [
         "Boston",
         8453.48,
         0.35
        ]
       ],
       "datasetInfos": [],
       "dbfsResultPath": null,
       "isJsonSchema": true,
       "metadata": {},
       "overflow": false,
       "plotOptions": {
        "customPlotOptions": {},
        "displayType": "table",
        "pivotAggregation": null,
        "pivotColumns": null,
        "xColumns": null,
        "yColumns": null
       },
       "removedWidgets": [],
       "schema": [
        {
         "metadata": "{}",
         "name": "city",
         "type": "\"string\""
        },
        {
         "metadata": "{}",
         "name": "total_sales",
         "type": "\"double\""
        },
        {
         "metadata": "{}",
         "name": "pct",
         "type": "\"double\""
        }
       ],
       "type": "table"
      }
     },
     "output_type": "display_data"
    },
    {
     "output_type": "display_data",
     "data": {
      "text/plain": [
       "Databricks visualization. Run in Databricks to view."
      ]
     },
     "metadata": {
      "application/vnd.databricks.v1.subcommand+json": {
       "bindings": {},
       "collapsed": false,
       "command": "%python\n__backend_agg_display_orig = display\n__backend_agg_dfs = []\ndef __backend_agg_display_new(df):\n    __backend_agg_df_modules = [\"pandas.core.frame\", \"databricks.koalas.frame\", \"pyspark.sql.dataframe\", \"pyspark.pandas.frame\", \"pyspark.sql.connect.dataframe\"]\n    if (type(df).__module__ in __backend_agg_df_modules and type(df).__name__ == 'DataFrame') or isinstance(df, list):\n        __backend_agg_dfs.append(df)\n\ndisplay = __backend_agg_display_new\n\ndef __backend_agg_user_code_fn():\n    import base64\n    exec(base64.standard_b64decode(\"ZGlzcGxheSgKICAgIHNhbGVzCiAgICAuam9pbihzdG9yZXMuc2VsZWN0KCdzdG9yZV9pZCcsICdjaXR5JyksIG9uPSdzdG9yZV9pZCcsIGhvdz0nbGVmdCcpCiAgICAuZ3JvdXBCeSgnY2l0eScpCiAgICAuYWdnKHN1bSgndG90YWwnKS5hbGlhcygndG90YWxfc2FsZXMnKSkKICAgIC53aXRoQ29sdW1uKCdwY3QnLCBGLnJvdW5kKCBjb2woJ3RvdGFsX3NhbGVzJykvc3VtKCd0b3RhbF9zYWxlcycpLm92ZXIoV2luZG93LnBhcnRpdGlvbkJ5KCkpLCAyKSkKKQ==\").decode())\n\ntry:\n    # run user code\n    __backend_agg_user_code_fn()\n\n    #reset display function\n    display = __backend_agg_display_orig\n\n    if len(__backend_agg_dfs) > 0:\n        # create a temp view\n        if type(__backend_agg_dfs[0]).__module__ == \"databricks.koalas.frame\":\n            # koalas dataframe\n            __backend_agg_dfs[0].to_spark().createOrReplaceTempView(\"DatabricksView33cafdc\")\n        elif type(__backend_agg_dfs[0]).__module__ == \"pandas.core.frame\" or isinstance(__backend_agg_dfs[0], list):\n            # pandas dataframe\n            spark.createDataFrame(__backend_agg_dfs[0]).createOrReplaceTempView(\"DatabricksView33cafdc\")\n        else:\n            __backend_agg_dfs[0].createOrReplaceTempView(\"DatabricksView33cafdc\")\n        #run backend agg\n        display(spark.sql(\"\"\"WITH q AS (select * from DatabricksView33cafdc) SELECT `city`,SUM(`pct`) `column_a4b33c71303`,`city` FROM q GROUP BY `city`\"\"\"))\n    else:\n        displayHTML(\"dataframe no longer exists. If you're using dataframe.display(), use display(dataframe) instead.\")\n\n\nfinally:\n    spark.sql(\"drop view if exists DatabricksView33cafdc\")\n    display = __backend_agg_display_orig\n    del __backend_agg_display_new\n    del __backend_agg_display_orig\n    del __backend_agg_dfs\n    del __backend_agg_user_code_fn\n\n",
       "commandTitle": "Visualization 1",
       "commandType": "auto",
       "commandVersion": 0,
       "commentThread": [],
       "commentsVisible": false,
       "contentSha256Hex": null,
       "customPlotOptions": {
        "redashChart": [
         {
          "key": "type",
          "value": "CHART"
         },
         {
          "key": "options",
          "value": {
           "alignYAxesAtZero": true,
           "coefficient": 1,
           "columnConfigurationMap": {
            "series": {
             "column": "city",
             "id": "column_a4b33c71304"
            },
            "x": {
             "column": "city",
             "id": "column_a4b33c71305"
            },
            "y": [
             {
              "column": "pct",
              "id": "column_a4b33c71303",
              "transform": "SUM"
             }
            ]
           },
           "dateTimeFormat": "DD/MM/YYYY HH:mm",
           "direction": {
            "type": "counterclockwise"
           },
           "error_y": {
            "type": "data",
            "visible": true
           },
           "globalSeriesType": "column",
           "isAggregationOn": true,
           "legend": {
            "traceorder": "normal"
           },
           "missingValuesAsZero": true,
           "numberFormat": "0,0[.]00000",
           "percentFormat": "0[.]00%",
           "series": {
            "error_y": {
             "type": "data",
             "visible": true
            },
            "stacking": null
           },
           "seriesOptions": {
            "column_a4b33c71303": {
             "name": "pct",
             "type": "column",
             "yAxis": 0
            }
           },
           "showDataLabels": false,
           "sizemode": "diameter",
           "sortX": true,
           "sortY": true,
           "swappedAxes": true,
           "textFormat": "",
           "useAggregationsUi": true,
           "valuesOptions": {},
           "version": 2,
           "xAxis": {
            "labels": {
             "enabled": true
            },
            "type": "-"
           },
           "yAxis": [
            {
             "type": "-"
            },
            {
             "opposite": true,
             "type": "-"
            }
           ]
          }
         }
        ]
       },
       "datasetPreviewNameToCmdIdMap": {},
       "diffDeletes": [],
       "diffInserts": [],
       "displayType": "redashChart",
       "error": null,
       "errorDetails": null,
       "errorSummary": null,
       "errorTraceType": null,
       "finishTime": 0,
       "globalVars": {},
       "guid": "",
       "height": "auto",
       "hideCommandCode": false,
       "hideCommandResult": false,
       "iPythonMetadata": null,
       "inputWidgets": {},
       "isLockedInExamMode": false,
       "latestUser": "a user",
       "latestUserId": null,
       "listResultMetadata": null,
       "metadata": {},
       "nuid": "d6d77ac2-1d6a-437f-b4dc-5ec859168362",
       "origId": 0,
       "parentHierarchy": [],
       "pivotAggregation": null,
       "pivotColumns": null,
       "position": 9.0,
       "resultDbfsErrorMessage": null,
       "resultDbfsStatus": "INLINED_IN_TREE",
       "results": null,
       "showCommandTitle": false,
       "startTime": 0,
       "state": "input",
       "streamStates": {},
       "subcommandOptions": {
        "queryPlan": {
         "groups": [
          {
           "column": "city",
           "type": "column"
          },
          {
           "column": "city",
           "type": "column"
          }
         ],
         "selects": [
          {
           "column": "city",
           "type": "column"
          },
          {
           "alias": "column_a4b33c71303",
           "args": [
            {
             "column": "pct",
             "type": "column"
            }
           ],
           "function": "SUM",
           "type": "function"
          },
          {
           "column": "city",
           "type": "column"
          }
         ]
        }
       },
       "submitTime": 0,
       "subtype": "tableResultSubCmd.visualization",
       "tableResultIndex": 0,
       "useConsistentColors": false,
       "version": "CommandV1",
       "width": "auto",
       "workflows": [],
       "xColumns": null,
       "yColumns": null
      }
     },
     "output_type": "display_data"
    }
   ],
   "source": [
    "display(\n",
    "    sales\n",
    "    .join(stores.select('store_id', 'city'), on='store_id', how='left')\n",
    "    .groupBy('city')\n",
    "    .agg(sum('total').alias('total_sales'))\n",
    "    .withColumn('pct', F.round( col('total_sales')/sum('total_sales').over(Window.partitionBy()), 2))\n",
    ")"
   ]
  },
  {
   "cell_type": "code",
   "execution_count": 0,
   "metadata": {
    "application/vnd.databricks.v1+cell": {
     "cellMetadata": {},
     "inputWidgets": {},
     "nuid": "59fc1198-1d0c-4362-a0a9-df5b38bfc158",
     "showTitle": false,
     "title": ""
    }
   },
   "outputs": [],
   "source": []
  }
 ],
 "metadata": {
  "application/vnd.databricks.v1+notebook": {
   "dashboards": [],
   "language": "python",
   "notebookMetadata": {
    "pythonIndentUnit": 4
   },
   "notebookName": "Joining Tables",
   "widgets": {}
  }
 },
 "nbformat": 4,
 "nbformat_minor": 0
}
