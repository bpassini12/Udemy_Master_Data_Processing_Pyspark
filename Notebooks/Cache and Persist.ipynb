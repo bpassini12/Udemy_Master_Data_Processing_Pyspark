{
 "cells": [
  {
   "cell_type": "markdown",
   "metadata": {
    "application/vnd.databricks.v1+cell": {
     "cellMetadata": {},
     "inputWidgets": {},
     "nuid": "be8618a8-4d79-4592-9549-2987af1f7fa3",
     "showTitle": false,
     "title": ""
    }
   },
   "source": [
    "## Cache\n",
    "Stores the data across worker nodes. It is a lazy operation, so it only takes place once an action is called.\n",
    "\n",
    "## Persist\n",
    "It is in essence the same as `cache()`, but it has parameters.\n"
   ]
  },
  {
   "cell_type": "code",
   "execution_count": 0,
   "metadata": {
    "application/vnd.databricks.v1+cell": {
     "cellMetadata": {
      "byteLimit": 2048000,
      "rowLimit": 10000
     },
     "inputWidgets": {},
     "nuid": "e7645498-baaa-479a-8c11-a781312ca3a2",
     "showTitle": true,
     "title": "Imports"
    }
   },
   "outputs": [],
   "source": [
    "from pyspark.sql import functions as F\n",
    "from pyspark.sql.functions import mean, sum, max, min, percentile, countDistinct, col"
   ]
  },
  {
   "cell_type": "code",
   "execution_count": 0,
   "metadata": {
    "application/vnd.databricks.v1+cell": {
     "cellMetadata": {
      "byteLimit": 2048000,
      "rowLimit": 10000
     },
     "inputWidgets": {},
     "nuid": "40b2a067-ca33-46b5-a823-656814e350b7",
     "showTitle": true,
     "title": "Load Data"
    }
   },
   "outputs": [],
   "source": [
    "# Point file path\n",
    "path = '/databricks-datasets/Rdatasets/data-001/csv/ggplot2/diamonds.csv'\n",
    "\n",
    "# Load Data\n",
    "df = spark.read.csv(path, header=True)\n",
    "\n",
    "# Update columns data types\n",
    "df = df.select( col('carat').cast('float'),\n",
    "                'cut', 'color', 'clarity',\n",
    "                col('depth').cast('float'),\n",
    "                col('table').cast('float'),\n",
    "                col('price').cast('float'),\n",
    "                col('x').cast('float'),\n",
    "                col('y').cast('float'),\n",
    "                col('z').cast('float')    )"
   ]
  },
  {
   "cell_type": "code",
   "execution_count": 0,
   "metadata": {
    "application/vnd.databricks.v1+cell": {
     "cellMetadata": {
      "byteLimit": 2048000,
      "rowLimit": 10000
     },
     "inputWidgets": {},
     "nuid": "447ba939-5933-46e3-bd00-b9105e5bd6f1",
     "showTitle": true,
     "title": "New Table to Join"
    }
   },
   "outputs": [],
   "source": [
    "# Importing Struct Types\n",
    "from pyspark.sql.types import DoubleType, StringType, StructField, StructType, IntegerType\n",
    "\n",
    "# Creating a dataframe for Sales Data\n",
    "my_data1 = [(\"Premium\",\"PPDQ1\",\"A\"),\n",
    "        (\"Very Good\",\"PPDQ2\",\"A\"),\n",
    "        (\"Ideal\",\"PPDQ1\",\"B\"),\n",
    "        (\"Good\",\"PPDQ6\",\"E\"),\n",
    "        (\"Fair\",\"PPDQ3\",\"D\")  ]\n",
    "\n",
    "schema = StructType([ \\\n",
    "    StructField(\"cut\",StringType(),True), \\\n",
    "    StructField(\"product\",StringType(),True), \\\n",
    "    StructField(\"store_id\",StringType(),True)  ])\n",
    " \n",
    "stores = spark.createDataFrame(data=my_data1,schema=schema)"
   ]
  },
  {
   "cell_type": "code",
   "execution_count": 0,
   "metadata": {
    "application/vnd.databricks.v1+cell": {
     "cellMetadata": {
      "byteLimit": 2048000,
      "rowLimit": 10000
     },
     "inputWidgets": {},
     "nuid": "744b88b2-7a8d-4bcd-b9e1-2c8d17e10134",
     "showTitle": true,
     "title": "Join Table"
    }
   },
   "outputs": [],
   "source": [
    "df2 = (\n",
    "    df.join(stores, on= 'cut', how='left')\n",
    ")\n",
    "df2.count()"
   ]
  },
  {
   "cell_type": "code",
   "execution_count": 0,
   "metadata": {
    "application/vnd.databricks.v1+cell": {
     "cellMetadata": {
      "byteLimit": 2048000,
      "rowLimit": 10000
     },
     "inputWidgets": {},
     "nuid": "7f53d5c4-9b16-4951-8532-ba1bfb827fd8",
     "showTitle": false,
     "title": ""
    }
   },
   "outputs": [],
   "source": [
    "df2.display()"
   ]
  },
  {
   "cell_type": "code",
   "execution_count": 0,
   "metadata": {
    "application/vnd.databricks.v1+cell": {
     "cellMetadata": {
      "byteLimit": 2048000,
      "rowLimit": 10000
     },
     "inputWidgets": {},
     "nuid": "bcd44768-f1fb-4111-977c-b7a46db48e02",
     "showTitle": true,
     "title": "Group df2 Table"
    }
   },
   "outputs": [],
   "source": [
    "df3 = (\n",
    "    df2\n",
    "    .groupBy('store_id', 'cut')\n",
    "    .agg( sum('price').alias('total'),\n",
    "          mean('price').alias('avg_price'),\n",
    "          F.count('cut').alias('ct'))\n",
    ")\n",
    "\n",
    "df3.count()"
   ]
  },
  {
   "cell_type": "code",
   "execution_count": 0,
   "metadata": {
    "application/vnd.databricks.v1+cell": {
     "cellMetadata": {
      "byteLimit": 2048000,
      "rowLimit": 10000
     },
     "inputWidgets": {},
     "nuid": "b7b1ae7a-6518-4f8d-bca3-1aeadec14fba",
     "showTitle": true,
     "title": "With cache"
    }
   },
   "outputs": [],
   "source": [
    "df2 = (\n",
    "    df\n",
    "    .join(stores, on= 'cut', how='left')\n",
    "    .cache()\n",
    ")\n",
    "df2.count()"
   ]
  },
  {
   "cell_type": "code",
   "execution_count": 0,
   "metadata": {
    "application/vnd.databricks.v1+cell": {
     "cellMetadata": {
      "byteLimit": 2048000,
      "rowLimit": 10000
     },
     "inputWidgets": {},
     "nuid": "453f5ab1-0585-4c14-81f1-41de9e44c638",
     "showTitle": false,
     "title": ""
    }
   },
   "outputs": [],
   "source": [
    "df3 = (\n",
    "    df2\n",
    "    .groupBy('store_id', 'cut')\n",
    "    .agg( sum('price').alias('total'),\n",
    "          mean('price').alias('avg_price'),\n",
    "          F.count('cut').alias('ct'))\n",
    ")\n",
    "\n",
    "df3.count()"
   ]
  },
  {
   "cell_type": "code",
   "execution_count": 0,
   "metadata": {
    "application/vnd.databricks.v1+cell": {
     "cellMetadata": {
      "byteLimit": 2048000,
      "rowLimit": 10000
     },
     "inputWidgets": {},
     "nuid": "f1026d57-6b14-432b-9864-e253d2d86804",
     "showTitle": true,
     "title": "Persist"
    }
   },
   "outputs": [],
   "source": [
    "from pyspark.storagelevel import *\n",
    "\n",
    "# Persist the data in memory and Disk\n",
    "df3.persist(StorageLevel.MEMORY_AND_DISK_2)\n",
    "#df3.persist(StorageLevel.DISK_ONLY)\n",
    "\n",
    "df3.count()"
   ]
  },
  {
   "cell_type": "code",
   "execution_count": 0,
   "metadata": {
    "application/vnd.databricks.v1+cell": {
     "cellMetadata": {
      "byteLimit": 2048000,
      "implicitDf": true,
      "rowLimit": 10000
     },
     "inputWidgets": {},
     "nuid": "10bf4152-9683-4187-9110-0649cd207e27",
     "showTitle": true,
     "title": "Clear Cache"
    }
   },
   "outputs": [],
   "source": [
    "%sql\n",
    "clear cache"
   ]
  },
  {
   "cell_type": "code",
   "execution_count": 0,
   "metadata": {
    "application/vnd.databricks.v1+cell": {
     "cellMetadata": {
      "byteLimit": 2048000,
      "rowLimit": 10000
     },
     "inputWidgets": {},
     "nuid": "b0edba25-25ed-454f-b00b-3ec72c22192d",
     "showTitle": true,
     "title": "Unpersist"
    }
   },
   "outputs": [],
   "source": [
    "df3.unpersist()"
   ]
  },
  {
   "cell_type": "code",
   "execution_count": 0,
   "metadata": {
    "application/vnd.databricks.v1+cell": {
     "cellMetadata": {
      "byteLimit": 2048000,
      "rowLimit": 10000
     },
     "inputWidgets": {},
     "nuid": "4ee44f93-13e7-4a14-a69e-7d3bac8e28ea",
     "showTitle": true,
     "title": "Load dataset"
    }
   },
   "outputs": [
    {
     "output_type": "stream",
     "name": "stdout",
     "output_type": "stream",
     "text": [
      " Total Rows 60,000,000\n"
     ]
    }
   ],
   "source": [
    "df = spark.read.format('delta').load('/databricks-datasets/learning-spark-v2/people/people-10m.delta')\n",
    "\n",
    "df = df.union(df).union(df).union(df).union(df).union(df)\n",
    "print(f' Total Rows {df.count():,}')"
   ]
  },
  {
   "cell_type": "code",
   "execution_count": 0,
   "metadata": {
    "application/vnd.databricks.v1+cell": {
     "cellMetadata": {
      "byteLimit": 2048000,
      "rowLimit": 10000
     },
     "inputWidgets": {},
     "nuid": "3b1ba354-8e58-4548-8e60-928e968c23a0",
     "showTitle": true,
     "title": "Without Cache"
    }
   },
   "outputs": [],
   "source": [
    "df2 = (\n",
    "    df\n",
    "    .groupBy('gender', F.month('birthDate').alias('birthMonth'))\n",
    "    .agg(mean('salary').alias('avg_sal'))\n",
    ")"
   ]
  },
  {
   "cell_type": "code",
   "execution_count": 0,
   "metadata": {
    "application/vnd.databricks.v1+cell": {
     "cellMetadata": {
      "byteLimit": 2048000,
      "rowLimit": 10000
     },
     "inputWidgets": {},
     "nuid": "f266b4de-cf2c-4d90-aa26-4eedd8d849d5",
     "showTitle": true,
     "title": "Command 1"
    }
   },
   "outputs": [
    {
     "output_type": "execute_result",
     "data": {
      "text/plain": [
       "21"
      ]
     },
     "execution_count": 4,
     "metadata": {},
     "output_type": "execute_result"
    }
   ],
   "source": [
    "df3 = df2.filter( col('avg_sal') > 72600)\n",
    "df3.count()"
   ]
  },
  {
   "cell_type": "code",
   "execution_count": 0,
   "metadata": {
    "application/vnd.databricks.v1+cell": {
     "cellMetadata": {
      "byteLimit": 2048000,
      "rowLimit": 10000
     },
     "inputWidgets": {},
     "nuid": "a0a81dca-d3e5-42eb-8290-ee9228b5d5f5",
     "showTitle": true,
     "title": "With Cache"
    }
   },
   "outputs": [
    {
     "output_type": "execute_result",
     "data": {
      "text/plain": [
       "24"
      ]
     },
     "execution_count": 5,
     "metadata": {},
     "output_type": "execute_result"
    }
   ],
   "source": [
    "df2 = (\n",
    "    df\n",
    "    .groupBy('gender', F.month('birthDate').alias('birthMonth'))\n",
    "    .agg(mean('salary').alias('avg_sal'))\n",
    "    .cache()\n",
    ")\n",
    "df2.count()"
   ]
  },
  {
   "cell_type": "code",
   "execution_count": 0,
   "metadata": {
    "application/vnd.databricks.v1+cell": {
     "cellMetadata": {
      "byteLimit": 2048000,
      "rowLimit": 10000
     },
     "inputWidgets": {},
     "nuid": "a549fcc1-0541-4b4c-95cf-5c8752cffe47",
     "showTitle": true,
     "title": "Command 2"
    }
   },
   "outputs": [
    {
     "output_type": "execute_result",
     "data": {
      "text/plain": [
       "21"
      ]
     },
     "execution_count": 6,
     "metadata": {},
     "output_type": "execute_result"
    }
   ],
   "source": [
    "df3 = df2.filter( col('avg_sal') > 72600)\n",
    "df3.count()"
   ]
  },
  {
   "cell_type": "code",
   "execution_count": 0,
   "metadata": {
    "application/vnd.databricks.v1+cell": {
     "cellMetadata": {
      "byteLimit": 2048000,
      "rowLimit": 10000
     },
     "inputWidgets": {},
     "nuid": "2f205a81-4bd1-4382-815a-05b295f57030",
     "showTitle": false,
     "title": ""
    }
   },
   "outputs": [
    {
     "output_type": "execute_result",
     "data": {
      "text/plain": [
       "0.8222222222222222"
      ]
     },
     "execution_count": 7,
     "metadata": {},
     "output_type": "execute_result"
    }
   ],
   "source": [
    "(45-8)/45"
   ]
  },
  {
   "cell_type": "code",
   "execution_count": 0,
   "metadata": {
    "application/vnd.databricks.v1+cell": {
     "cellMetadata": {},
     "inputWidgets": {},
     "nuid": "48d84ad4-710d-4ed4-b66e-9ceb7414d28c",
     "showTitle": false,
     "title": ""
    }
   },
   "outputs": [],
   "source": []
  }
 ],
 "metadata": {
  "application/vnd.databricks.v1+notebook": {
   "dashboards": [],
   "language": "python",
   "notebookMetadata": {
    "mostRecentlyExecutedCommandWithImplicitDF": {
     "commandId": 346838148793933,
     "dataframes": [
      "_sqldf"
     ]
    },
    "pythonIndentUnit": 4
   },
   "notebookName": "Cache and Persist",
   "widgets": {}
  }
 },
 "nbformat": 4,
 "nbformat_minor": 0
}
